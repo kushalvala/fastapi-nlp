{
 "cells": [
  {
   "cell_type": "code",
   "execution_count": 3,
   "metadata": {},
   "outputs": [],
   "source": [
    "import gensim\n",
    "from gensim.models.doc2vec import Doc2Vec, TaggedDocument\n",
    "from nltk.tokenize import word_tokenize"
   ]
  },
  {
   "cell_type": "code",
   "execution_count": 34,
   "metadata": {},
   "outputs": [],
   "source": [
    "data = [\"I love machine learning. Its awesome.\",\n",
    "        \"I love coding in python\",\n",
    "        \"I love building chatbots\",\n",
    "        \"they chat amagingly well\",\n",
    "       \"amazon forest produces a lot of oxygen\"]"
   ]
  },
  {
   "cell_type": "code",
   "execution_count": 35,
   "metadata": {},
   "outputs": [
    {
     "data": {
      "text/plain": [
       "['I love machine learning. Its awesome.',\n",
       " 'I love coding in python',\n",
       " 'I love building chatbots',\n",
       " 'they chat amagingly well',\n",
       " 'amazon forest produces a lot of oxygen']"
      ]
     },
     "execution_count": 35,
     "metadata": {},
     "output_type": "execute_result"
    }
   ],
   "source": [
    "data"
   ]
  },
  {
   "cell_type": "code",
   "execution_count": 36,
   "metadata": {},
   "outputs": [],
   "source": [
    "tagged_data = [TaggedDocument(words= word_tokenize(d.lower()) , tags= [str(i)]) for i,d in enumerate(data)]"
   ]
  },
  {
   "cell_type": "code",
   "execution_count": 37,
   "metadata": {},
   "outputs": [
    {
     "data": {
      "text/plain": [
       "[TaggedDocument(words=['i', 'love', 'machine', 'learning', '.', 'its', 'awesome', '.'], tags=['0']),\n",
       " TaggedDocument(words=['i', 'love', 'coding', 'in', 'python'], tags=['1']),\n",
       " TaggedDocument(words=['i', 'love', 'building', 'chatbots'], tags=['2']),\n",
       " TaggedDocument(words=['they', 'chat', 'amagingly', 'well'], tags=['3']),\n",
       " TaggedDocument(words=['amazon', 'forest', 'produces', 'a', 'lot', 'of', 'oxygen'], tags=['4'])]"
      ]
     },
     "execution_count": 37,
     "metadata": {},
     "output_type": "execute_result"
    }
   ],
   "source": [
    "tagged_data"
   ]
  },
  {
   "cell_type": "code",
   "execution_count": 38,
   "metadata": {},
   "outputs": [],
   "source": [
    "max_epochs = 100 \n",
    "vec_size = 25\n",
    "alpha = 0.025\n",
    "\n",
    "model = Doc2Vec(documents= tagged_data, vector_size = vec_size, alpha = alpha , min_alpha = 0.00025, min_count = 1, dm = 1)"
   ]
  },
  {
   "cell_type": "code",
   "execution_count": 39,
   "metadata": {},
   "outputs": [
    {
     "data": {
      "text/plain": [
       "<gensim.models.doc2vec.Doc2Vec at 0x7fe647116850>"
      ]
     },
     "execution_count": 39,
     "metadata": {},
     "output_type": "execute_result"
    }
   ],
   "source": [
    "model"
   ]
  },
  {
   "cell_type": "code",
   "execution_count": 40,
   "metadata": {},
   "outputs": [
    {
     "name": "stdout",
     "output_type": "stream",
     "text": [
      "iteration : 0\n",
      "iteration : 1\n",
      "iteration : 2\n",
      "iteration : 3\n",
      "iteration : 4\n",
      "iteration : 5\n",
      "iteration : 6\n",
      "iteration : 7\n",
      "iteration : 8\n",
      "iteration : 9\n",
      "iteration : 10\n",
      "iteration : 11\n",
      "iteration : 12\n",
      "iteration : 13\n",
      "iteration : 14\n",
      "iteration : 15\n",
      "iteration : 16\n",
      "iteration : 17\n",
      "iteration : 18\n",
      "iteration : 19\n",
      "iteration : 20\n",
      "iteration : 21\n",
      "iteration : 22\n",
      "iteration : 23\n",
      "iteration : 24\n",
      "iteration : 25\n",
      "iteration : 26\n",
      "iteration : 27\n",
      "iteration : 28\n",
      "iteration : 29\n",
      "iteration : 30\n",
      "iteration : 31\n",
      "iteration : 32\n",
      "iteration : 33\n",
      "iteration : 34\n",
      "iteration : 35\n",
      "iteration : 36\n",
      "iteration : 37\n",
      "iteration : 38\n",
      "iteration : 39\n",
      "iteration : 40\n",
      "iteration : 41\n",
      "iteration : 42\n",
      "iteration : 43\n",
      "iteration : 44\n",
      "iteration : 45\n",
      "iteration : 46\n",
      "iteration : 47\n",
      "iteration : 48\n",
      "iteration : 49\n",
      "iteration : 50\n",
      "iteration : 51\n",
      "iteration : 52\n",
      "iteration : 53\n",
      "iteration : 54\n"
     ]
    },
    {
     "name": "stderr",
     "output_type": "stream",
     "text": [
      "<ipython-input-40-fb673aa9cf1e>:3: DeprecationWarning: Call to deprecated `iter` (Attribute will be removed in 4.0.0, use self.epochs instead).\n",
      "  model.train(tagged_data, total_examples= model.corpus_count , epochs= model.iter)\n"
     ]
    },
    {
     "name": "stdout",
     "output_type": "stream",
     "text": [
      "iteration : 55\n",
      "iteration : 56\n",
      "iteration : 57\n",
      "iteration : 58\n",
      "iteration : 59\n",
      "iteration : 60\n",
      "iteration : 61\n",
      "iteration : 62\n",
      "iteration : 63\n",
      "iteration : 64\n",
      "iteration : 65\n",
      "iteration : 66\n",
      "iteration : 67\n",
      "iteration : 68\n",
      "iteration : 69\n",
      "iteration : 70\n",
      "iteration : 71\n",
      "iteration : 72\n",
      "iteration : 73\n",
      "iteration : 74\n",
      "iteration : 75\n",
      "iteration : 76\n",
      "iteration : 77\n",
      "iteration : 78\n",
      "iteration : 79\n",
      "iteration : 80\n",
      "iteration : 81\n",
      "iteration : 82\n",
      "iteration : 83\n",
      "iteration : 84\n",
      "iteration : 85\n",
      "iteration : 86\n",
      "iteration : 87\n",
      "iteration : 88\n",
      "iteration : 89\n",
      "iteration : 90\n",
      "iteration : 91\n",
      "iteration : 92\n",
      "iteration : 93\n",
      "iteration : 94\n",
      "iteration : 95\n",
      "iteration : 96\n",
      "iteration : 97\n",
      "iteration : 98\n",
      "iteration : 99\n"
     ]
    }
   ],
   "source": [
    "for epoch in range(max_epochs):\n",
    "    print('iteration : {0}'.format(epoch))\n",
    "    model.train(tagged_data, total_examples= model.corpus_count , epochs= model.iter)\n",
    "    model.alpha -= 0.0002\n",
    "    model.min_alpha = model.alpha"
   ]
  },
  {
   "cell_type": "code",
   "execution_count": 41,
   "metadata": {},
   "outputs": [
    {
     "name": "stdout",
     "output_type": "stream",
     "text": [
      "V1_infer [-0.00137514  0.01453006  0.00196556 -0.0213761  -0.01218495  0.00203591\n",
      "  0.0062537   0.02007711  0.01127395  0.00701183 -0.0035051   0.01444\n",
      " -0.01233013 -0.00752976 -0.00927093 -0.01173019 -0.0065303   0.01026738\n",
      " -0.01426722  0.0135649   0.01024775  0.0137319   0.00651332  0.01156311\n",
      " -0.00152488]\n"
     ]
    }
   ],
   "source": [
    "test_data = word_tokenize(\"I love chatbots\".lower())\n",
    "v1 = model.infer_vector(test_data)\n",
    "print(\"V1_infer\", v1)"
   ]
  },
  {
   "cell_type": "code",
   "execution_count": 42,
   "metadata": {},
   "outputs": [
    {
     "name": "stdout",
     "output_type": "stream",
     "text": [
      "[('2', 0.9954426288604736), ('4', 0.9937474727630615), ('0', 0.9928261637687683), ('3', 0.9911702275276184)]\n"
     ]
    }
   ],
   "source": [
    "# to find most similar doc using tags\n",
    "similar_doc = model.docvecs.most_similar('1')\n",
    "print(similar_doc)"
   ]
  },
  {
   "cell_type": "code",
   "execution_count": 43,
   "metadata": {},
   "outputs": [
    {
     "name": "stdout",
     "output_type": "stream",
     "text": [
      "[ 0.2523057  -0.22811954 -0.13904123 -0.27698123 -0.0241319  -0.17982832\n",
      " -0.12561171  0.63136274  0.23788857 -0.34803072 -0.5664049  -0.08041667\n",
      "  0.04923706  0.15631017  0.25958008 -0.00679173  0.4249612  -0.03954787\n",
      " -0.0766993  -0.12047156  0.11788446 -0.37423417 -0.31649452 -0.09697087\n",
      " -0.56112546]\n"
     ]
    }
   ],
   "source": [
    "# to find vector of doc in training data using tags or in other words, printing the vector of document at index 1 in training data\n",
    "print(model.docvecs['1'])"
   ]
  },
  {
   "cell_type": "code",
   "execution_count": 44,
   "metadata": {},
   "outputs": [
    {
     "data": {
      "text/plain": [
       "{'i': <gensim.models.keyedvectors.Vocab at 0x7fe649a610d0>,\n",
       " 'love': <gensim.models.keyedvectors.Vocab at 0x7fe649a61eb0>,\n",
       " 'machine': <gensim.models.keyedvectors.Vocab at 0x7fe649a61580>,\n",
       " 'learning': <gensim.models.keyedvectors.Vocab at 0x7fe649a61220>,\n",
       " '.': <gensim.models.keyedvectors.Vocab at 0x7fe649a61be0>,\n",
       " 'its': <gensim.models.keyedvectors.Vocab at 0x7fe649a61a30>,\n",
       " 'awesome': <gensim.models.keyedvectors.Vocab at 0x7fe649a61370>,\n",
       " 'coding': <gensim.models.keyedvectors.Vocab at 0x7fe649a61130>,\n",
       " 'in': <gensim.models.keyedvectors.Vocab at 0x7fe649a615e0>,\n",
       " 'python': <gensim.models.keyedvectors.Vocab at 0x7fe649a612e0>,\n",
       " 'building': <gensim.models.keyedvectors.Vocab at 0x7fe649a61040>,\n",
       " 'chatbots': <gensim.models.keyedvectors.Vocab at 0x7fe649a61340>,\n",
       " 'they': <gensim.models.keyedvectors.Vocab at 0x7fe649a61190>,\n",
       " 'chat': <gensim.models.keyedvectors.Vocab at 0x7fe649a61310>,\n",
       " 'amagingly': <gensim.models.keyedvectors.Vocab at 0x7fe649a61fd0>,\n",
       " 'well': <gensim.models.keyedvectors.Vocab at 0x7fe649a61970>,\n",
       " 'amazon': <gensim.models.keyedvectors.Vocab at 0x7fe649a61d30>,\n",
       " 'forest': <gensim.models.keyedvectors.Vocab at 0x7fe649a61d90>,\n",
       " 'produces': <gensim.models.keyedvectors.Vocab at 0x7fe649a617f0>,\n",
       " 'a': <gensim.models.keyedvectors.Vocab at 0x7fe649a61c40>,\n",
       " 'lot': <gensim.models.keyedvectors.Vocab at 0x7fe649a61ee0>,\n",
       " 'of': <gensim.models.keyedvectors.Vocab at 0x7fe649a61280>,\n",
       " 'oxygen': <gensim.models.keyedvectors.Vocab at 0x7fe649a61700>}"
      ]
     },
     "execution_count": 44,
     "metadata": {},
     "output_type": "execute_result"
    }
   ],
   "source": [
    "model.wv.vocab"
   ]
  },
  {
   "cell_type": "code",
   "execution_count": 45,
   "metadata": {},
   "outputs": [
    {
     "data": {
      "text/plain": [
       "[('3', 0.022514022886753082),\n",
       " ('0', 0.020662136375904083),\n",
       " ('1', 0.009800985455513),\n",
       " ('4', 0.0014447104185819626),\n",
       " ('2', 8.099526166915894e-05)]"
      ]
     },
     "execution_count": 45,
     "metadata": {},
     "output_type": "execute_result"
    }
   ],
   "source": [
    "model.docvecs.most_similar(positive = [v1])"
   ]
  },
  {
   "cell_type": "code",
   "execution_count": 46,
   "metadata": {},
   "outputs": [
    {
     "data": {
      "text/plain": [
       "[('3', 0.022514022886753082),\n",
       " ('0', 0.020662136375904083),\n",
       " ('1', 0.009800985455513),\n",
       " ('4', 0.0014447104185819626),\n",
       " ('2', 8.099526166915894e-05)]"
      ]
     },
     "execution_count": 46,
     "metadata": {},
     "output_type": "execute_result"
    }
   ],
   "source": [
    "model.docvecs.most_similar(positive=[v1])"
   ]
  },
  {
   "cell_type": "code",
   "execution_count": 49,
   "metadata": {},
   "outputs": [
    {
     "data": {
      "text/plain": [
       "0.9937474"
      ]
     },
     "execution_count": 49,
     "metadata": {},
     "output_type": "execute_result"
    }
   ],
   "source": [
    "model.docvecs.similarity(1,4)"
   ]
  },
  {
   "cell_type": "code",
   "execution_count": null,
   "metadata": {},
   "outputs": [],
   "source": []
  }
 ],
 "metadata": {
  "kernelspec": {
   "display_name": "Python 3",
   "language": "python",
   "name": "python3"
  },
  "language_info": {
   "codemirror_mode": {
    "name": "ipython",
    "version": 3
   },
   "file_extension": ".py",
   "mimetype": "text/x-python",
   "name": "python",
   "nbconvert_exporter": "python",
   "pygments_lexer": "ipython3",
   "version": "3.8.5"
  }
 },
 "nbformat": 4,
 "nbformat_minor": 4
}
