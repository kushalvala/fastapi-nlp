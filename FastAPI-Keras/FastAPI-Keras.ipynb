{
 "cells": [
  {
   "cell_type": "code",
   "execution_count": 1,
   "metadata": {},
   "outputs": [],
   "source": [
    "# Importing necessary libraries\n",
    "\n",
    "import tensorflow as tf\n",
    "import pandas as pd\n",
    "import numpy as np\n",
    "import matplotlib.pyplot as plt\n",
    "import seaborn as sns\n",
    "import nltk\n",
    "import re\n",
    "from sklearn.model_selection import train_test_split\n",
    "%matplotlib inline"
   ]
  },
  {
   "cell_type": "code",
   "execution_count": 2,
   "metadata": {},
   "outputs": [
    {
     "data": {
      "text/plain": [
       "'2.4.1'"
      ]
     },
     "execution_count": 2,
     "metadata": {},
     "output_type": "execute_result"
    }
   ],
   "source": [
    "tf.__version__"
   ]
  },
  {
   "cell_type": "code",
   "execution_count": 11,
   "metadata": {},
   "outputs": [
    {
     "data": {
      "text/plain": [
       "'/Users/kushalvala/Documents/Notebooks/fastapi-nlp/FastAPI-Keras'"
      ]
     },
     "execution_count": 11,
     "metadata": {},
     "output_type": "execute_result"
    }
   ],
   "source": [
    "pwd"
   ]
  },
  {
   "cell_type": "code",
   "execution_count": 12,
   "metadata": {},
   "outputs": [],
   "source": [
    "# Reading the dataset\n",
    "df = pd.read_csv('/Users/kushalvala/Documents/Notebooks/IMDB Dataset.csv')"
   ]
  },
  {
   "cell_type": "code",
   "execution_count": 13,
   "metadata": {},
   "outputs": [
    {
     "data": {
      "text/html": [
       "<div>\n",
       "<style scoped>\n",
       "    .dataframe tbody tr th:only-of-type {\n",
       "        vertical-align: middle;\n",
       "    }\n",
       "\n",
       "    .dataframe tbody tr th {\n",
       "        vertical-align: top;\n",
       "    }\n",
       "\n",
       "    .dataframe thead th {\n",
       "        text-align: right;\n",
       "    }\n",
       "</style>\n",
       "<table border=\"1\" class=\"dataframe\">\n",
       "  <thead>\n",
       "    <tr style=\"text-align: right;\">\n",
       "      <th></th>\n",
       "      <th>review</th>\n",
       "      <th>sentiment</th>\n",
       "    </tr>\n",
       "  </thead>\n",
       "  <tbody>\n",
       "    <tr>\n",
       "      <th>0</th>\n",
       "      <td>One of the other reviewers has mentioned that ...</td>\n",
       "      <td>positive</td>\n",
       "    </tr>\n",
       "    <tr>\n",
       "      <th>1</th>\n",
       "      <td>A wonderful little production. &lt;br /&gt;&lt;br /&gt;The...</td>\n",
       "      <td>positive</td>\n",
       "    </tr>\n",
       "    <tr>\n",
       "      <th>2</th>\n",
       "      <td>I thought this was a wonderful way to spend ti...</td>\n",
       "      <td>positive</td>\n",
       "    </tr>\n",
       "    <tr>\n",
       "      <th>3</th>\n",
       "      <td>Basically there's a family where a little boy ...</td>\n",
       "      <td>negative</td>\n",
       "    </tr>\n",
       "    <tr>\n",
       "      <th>4</th>\n",
       "      <td>Petter Mattei's \"Love in the Time of Money\" is...</td>\n",
       "      <td>positive</td>\n",
       "    </tr>\n",
       "  </tbody>\n",
       "</table>\n",
       "</div>"
      ],
      "text/plain": [
       "                                              review sentiment\n",
       "0  One of the other reviewers has mentioned that ...  positive\n",
       "1  A wonderful little production. <br /><br />The...  positive\n",
       "2  I thought this was a wonderful way to spend ti...  positive\n",
       "3  Basically there's a family where a little boy ...  negative\n",
       "4  Petter Mattei's \"Love in the Time of Money\" is...  positive"
      ]
     },
     "execution_count": 13,
     "metadata": {},
     "output_type": "execute_result"
    }
   ],
   "source": [
    "df.head()"
   ]
  },
  {
   "cell_type": "code",
   "execution_count": 14,
   "metadata": {},
   "outputs": [
    {
     "data": {
      "text/plain": [
       "(50000, 2)"
      ]
     },
     "execution_count": 14,
     "metadata": {},
     "output_type": "execute_result"
    }
   ],
   "source": [
    "# There are 50k reviews of movies.\n",
    "df.shape"
   ]
  },
  {
   "cell_type": "code",
   "execution_count": 15,
   "metadata": {},
   "outputs": [
    {
     "data": {
      "text/plain": [
       "negative    25000\n",
       "positive    25000\n",
       "Name: sentiment, dtype: int64"
      ]
     },
     "execution_count": 15,
     "metadata": {},
     "output_type": "execute_result"
    }
   ],
   "source": [
    "# It's a balanced distribution of both sentiments\n",
    "df['sentiment'].value_counts()"
   ]
  },
  {
   "cell_type": "markdown",
   "metadata": {},
   "source": [
    "Encoding the sentiment:  \n",
    "negative - 0 , positive - 1"
   ]
  },
  {
   "cell_type": "code",
   "execution_count": 16,
   "metadata": {},
   "outputs": [],
   "source": [
    "df['sentiment'] = df['sentiment'].map({'positive' : 1, 'negative': 0})"
   ]
  },
  {
   "cell_type": "code",
   "execution_count": 17,
   "metadata": {},
   "outputs": [
    {
     "data": {
      "text/html": [
       "<div>\n",
       "<style scoped>\n",
       "    .dataframe tbody tr th:only-of-type {\n",
       "        vertical-align: middle;\n",
       "    }\n",
       "\n",
       "    .dataframe tbody tr th {\n",
       "        vertical-align: top;\n",
       "    }\n",
       "\n",
       "    .dataframe thead th {\n",
       "        text-align: right;\n",
       "    }\n",
       "</style>\n",
       "<table border=\"1\" class=\"dataframe\">\n",
       "  <thead>\n",
       "    <tr style=\"text-align: right;\">\n",
       "      <th></th>\n",
       "      <th>review</th>\n",
       "      <th>sentiment</th>\n",
       "    </tr>\n",
       "  </thead>\n",
       "  <tbody>\n",
       "    <tr>\n",
       "      <th>0</th>\n",
       "      <td>One of the other reviewers has mentioned that ...</td>\n",
       "      <td>1</td>\n",
       "    </tr>\n",
       "    <tr>\n",
       "      <th>1</th>\n",
       "      <td>A wonderful little production. &lt;br /&gt;&lt;br /&gt;The...</td>\n",
       "      <td>1</td>\n",
       "    </tr>\n",
       "    <tr>\n",
       "      <th>2</th>\n",
       "      <td>I thought this was a wonderful way to spend ti...</td>\n",
       "      <td>1</td>\n",
       "    </tr>\n",
       "    <tr>\n",
       "      <th>3</th>\n",
       "      <td>Basically there's a family where a little boy ...</td>\n",
       "      <td>0</td>\n",
       "    </tr>\n",
       "    <tr>\n",
       "      <th>4</th>\n",
       "      <td>Petter Mattei's \"Love in the Time of Money\" is...</td>\n",
       "      <td>1</td>\n",
       "    </tr>\n",
       "  </tbody>\n",
       "</table>\n",
       "</div>"
      ],
      "text/plain": [
       "                                              review  sentiment\n",
       "0  One of the other reviewers has mentioned that ...          1\n",
       "1  A wonderful little production. <br /><br />The...          1\n",
       "2  I thought this was a wonderful way to spend ti...          1\n",
       "3  Basically there's a family where a little boy ...          0\n",
       "4  Petter Mattei's \"Love in the Time of Money\" is...          1"
      ]
     },
     "execution_count": 17,
     "metadata": {},
     "output_type": "execute_result"
    }
   ],
   "source": [
    "df.head()"
   ]
  },
  {
   "cell_type": "markdown",
   "metadata": {},
   "source": [
    "Estimation of Vocabulary of Corpus"
   ]
  },
  {
   "cell_type": "code",
   "execution_count": 18,
   "metadata": {},
   "outputs": [],
   "source": [
    "df_temp = df.copy()"
   ]
  },
  {
   "cell_type": "code",
   "execution_count": 19,
   "metadata": {},
   "outputs": [
    {
     "name": "stderr",
     "output_type": "stream",
     "text": [
      "[nltk_data] Error loading stopwords: <urlopen error [Errno 8] nodename\n",
      "[nltk_data]     nor servname provided, or not known>\n"
     ]
    }
   ],
   "source": [
    "from nltk.corpus import stopwords \n",
    "nltk.download('stopwords')\n",
    "stop_words = stopwords.words('english')"
   ]
  },
  {
   "cell_type": "code",
   "execution_count": 20,
   "metadata": {},
   "outputs": [],
   "source": [
    "df_temp['review'] = df_temp['review'].str.lower()\n",
    "df_temp['review'] =  df_temp['review'].apply(lambda x: re.sub(r'\\W+|\\d+|(br)',' ', str(x)))\n",
    "df_temp['review'] = df_temp['review'].apply(lambda x: x.rstrip())\n",
    "df_temp['review'] = df_temp['review'].apply(lambda x : ' '.join([w for w in x.split() if not w in stop_words]))"
   ]
  },
  {
   "cell_type": "code",
   "execution_count": 21,
   "metadata": {},
   "outputs": [
    {
     "data": {
      "text/plain": [
       "\"One of the other reviewers has mentioned that after watching just 1 Oz episode you'll be hooked. They are right, as this is exactly what happened with me.<br /><br />The first thing that struck me about Oz was its brutality and unflinching scenes of violence, which set in right from the word GO. Trust me, this is not a show for the faint hearted or timid. This show pulls no punches with regards to drugs, sex or violence. Its is hardcore, in the classic use of the word.<br /><br />It is called OZ as that is the nickname given to the Oswald Maximum Security State Penitentary. It focuses mainly on Emerald City, an experimental section of the prison where all the cells have glass fronts and face inwards, so privacy is not high on the agenda. Em City is home to many..Aryans, Muslims, gangstas, Latinos, Christians, Italians, Irish and more....so scuffles, death stares, dodgy dealings and shady agreements are never far away.<br /><br />I would say the main appeal of the show is due to the fact that it goes where other shows wouldn't dare. Forget pretty pictures painted for mainstream audiences, forget charm, forget romance...OZ doesn't mess around. The first episode I ever saw struck me as so nasty it was surreal, I couldn't say I was ready for it, but as I watched more, I developed a taste for Oz, and got accustomed to the high levels of graphic violence. Not just violence, but injustice (crooked guards who'll be sold out for a nickel, inmates who'll kill on order and get away with it, well mannered, middle class inmates being turned into prison bitches due to their lack of street skills or prison experience) Watching Oz, you may become comfortable with what is uncomfortable viewing....thats if you can get in touch with your darker side.\""
      ]
     },
     "execution_count": 21,
     "metadata": {},
     "output_type": "execute_result"
    }
   ],
   "source": [
    "df['review'][0]"
   ]
  },
  {
   "cell_type": "code",
   "execution_count": 22,
   "metadata": {},
   "outputs": [
    {
     "data": {
      "text/plain": [
       "'one reviewers mentioned watching oz episode hooked right exactly happened first thing struck oz utality unflinching scenes violence set right word go trust show faint hearted timid show pulls punches regards drugs sex violence hardcore classic use word called oz nickname given oswald maximum security state penitentary focuses mainly emerald city experimental section prison cells glass fronts face inwards privacy high agenda em city home many aryans muslims gangstas latinos christians italians irish scuffles death stares dodgy dealings shady agreements never far away would say main appeal show due fact goes shows dare forget pretty pictures painted mainstream audiences forget charm forget romance oz mess around first episode ever saw struck nasty surreal say ready watched developed taste oz got accustomed high levels graphic violence violence injustice crooked guards sold nickel inmates kill order get away well mannered middle class inmates turned prison bitches due lack street skills prison experience watching oz may become comfortable uncomfortable viewing thats get touch darker side'"
      ]
     },
     "execution_count": 22,
     "metadata": {},
     "output_type": "execute_result"
    }
   ],
   "source": [
    "df_temp['review'][0]"
   ]
  },
  {
   "cell_type": "code",
   "execution_count": 23,
   "metadata": {},
   "outputs": [],
   "source": [
    "corpus = ' '.join(df_temp['review'].tolist())\n",
    "word_dist = nltk.FreqDist(corpus.split())"
   ]
  },
  {
   "cell_type": "code",
   "execution_count": 24,
   "metadata": {},
   "outputs": [
    {
     "name": "stdout",
     "output_type": "stream",
     "text": [
      "Percentage of Corpus captured with 1000 words is 57.38\n",
      "Percentage of Corpus captured with 5000 words is 82.00\n",
      "Percentage of Corpus captured with 7500 words is 86.86\n",
      "Percentage of Corpus captured with 10000 words is 89.84\n",
      "Percentage of Corpus captured with 12000 words is 91.52\n",
      "Percentage of Corpus captured with 15000 words is 93.36\n",
      "Percentage of Corpus captured with 20000 words is 95.33\n"
     ]
    }
   ],
   "source": [
    "for i in [1000,5000,7500,10000,12000,15000,20000]:\n",
    "    most_words = word_dist.most_common(i)\n",
    "    print('Percentage of Corpus captured with %s words is %.2f'%(i,np.sum([int(x[1]) for x in most_words]) / len(corpus.split()) * 100 ))"
   ]
  },
  {
   "cell_type": "markdown",
   "metadata": {},
   "source": [
    "__We will choose 12,000 vocab size for our corpus__"
   ]
  },
  {
   "cell_type": "markdown",
   "metadata": {},
   "source": [
    "Estimating the length of vector"
   ]
  },
  {
   "cell_type": "code",
   "execution_count": 25,
   "metadata": {},
   "outputs": [
    {
     "data": {
      "text/html": [
       "<div>\n",
       "<style scoped>\n",
       "    .dataframe tbody tr th:only-of-type {\n",
       "        vertical-align: middle;\n",
       "    }\n",
       "\n",
       "    .dataframe tbody tr th {\n",
       "        vertical-align: top;\n",
       "    }\n",
       "\n",
       "    .dataframe thead th {\n",
       "        text-align: right;\n",
       "    }\n",
       "</style>\n",
       "<table border=\"1\" class=\"dataframe\">\n",
       "  <thead>\n",
       "    <tr style=\"text-align: right;\">\n",
       "      <th></th>\n",
       "      <th>review</th>\n",
       "      <th>sentiment</th>\n",
       "    </tr>\n",
       "  </thead>\n",
       "  <tbody>\n",
       "    <tr>\n",
       "      <th>0</th>\n",
       "      <td>one reviewers mentioned watching oz episode ho...</td>\n",
       "      <td>1</td>\n",
       "    </tr>\n",
       "    <tr>\n",
       "      <th>1</th>\n",
       "      <td>wonderful little production filming technique ...</td>\n",
       "      <td>1</td>\n",
       "    </tr>\n",
       "    <tr>\n",
       "      <th>2</th>\n",
       "      <td>thought wonderful way spend time hot summer we...</td>\n",
       "      <td>1</td>\n",
       "    </tr>\n",
       "    <tr>\n",
       "      <th>3</th>\n",
       "      <td>basically family little boy jake thinks zombie...</td>\n",
       "      <td>0</td>\n",
       "    </tr>\n",
       "    <tr>\n",
       "      <th>4</th>\n",
       "      <td>petter mattei love time money visually stunnin...</td>\n",
       "      <td>1</td>\n",
       "    </tr>\n",
       "  </tbody>\n",
       "</table>\n",
       "</div>"
      ],
      "text/plain": [
       "                                              review  sentiment\n",
       "0  one reviewers mentioned watching oz episode ho...          1\n",
       "1  wonderful little production filming technique ...          1\n",
       "2  thought wonderful way spend time hot summer we...          1\n",
       "3  basically family little boy jake thinks zombie...          0\n",
       "4  petter mattei love time money visually stunnin...          1"
      ]
     },
     "execution_count": 25,
     "metadata": {},
     "output_type": "execute_result"
    }
   ],
   "source": [
    "df_temp.head()"
   ]
  },
  {
   "cell_type": "code",
   "execution_count": 26,
   "metadata": {},
   "outputs": [
    {
     "data": {
      "text/plain": [
       "162"
      ]
     },
     "execution_count": 26,
     "metadata": {},
     "output_type": "execute_result"
    }
   ],
   "source": [
    "len(df_temp['review'][0].split())"
   ]
  },
  {
   "cell_type": "code",
   "execution_count": 27,
   "metadata": {},
   "outputs": [],
   "source": [
    "corpus_list = df_temp['review'].tolist()"
   ]
  },
  {
   "cell_type": "code",
   "execution_count": 28,
   "metadata": {},
   "outputs": [],
   "source": [
    "len_review = []\n",
    "for i in corpus_list:\n",
    "    len_review.append(len(i.split()))"
   ]
  },
  {
   "cell_type": "code",
   "execution_count": 29,
   "metadata": {},
   "outputs": [],
   "source": [
    "len_review = np.array(len_review)"
   ]
  },
  {
   "cell_type": "code",
   "execution_count": 30,
   "metadata": {},
   "outputs": [
    {
     "name": "stdout",
     "output_type": "stream",
     "text": [
      "Average Length of Review: 118.12304\n",
      "Std Deviation of Reviews: 89.39626648332914\n"
     ]
    }
   ],
   "source": [
    "print('Average Length of Review:', np.mean(len_review))\n",
    "print('Std Deviation of Reviews:', np.std(len_review))"
   ]
  },
  {
   "cell_type": "code",
   "execution_count": 31,
   "metadata": {},
   "outputs": [
    {
     "name": "stdout",
     "output_type": "stream",
     "text": [
      "Percentage of Reviews less than or equal to mean + 0 standard dev: 0.67\n",
      "Percentage of Reviews less than or equal to mean + 1 standard dev: 0.87\n",
      "Percentage of Reviews less than or equal to mean + 2 standard dev: 0.95\n"
     ]
    }
   ],
   "source": [
    "mean = np.mean(len_review)\n",
    "std = np.std(len_review)\n",
    "\n",
    "for i in range(3):\n",
    "    print('Percentage of Reviews less than or equal to mean + %s standard dev: %.2f'%(i,len(len_review[len_review <= np.mean(len_review) + i * np.std(len_review)]) / len(len_review)))"
   ]
  },
  {
   "cell_type": "markdown",
   "metadata": {},
   "source": [
    "87% of reviews are less than mean + 1 std dev length, which will be our optimal length of vector."
   ]
  },
  {
   "cell_type": "code",
   "execution_count": 32,
   "metadata": {},
   "outputs": [
    {
     "name": "stdout",
     "output_type": "stream",
     "text": [
      "Length of Vector is 207.52\n"
     ]
    }
   ],
   "source": [
    "print('Length of Vector is', np.round(mean+std,2))"
   ]
  },
  {
   "cell_type": "code",
   "execution_count": 33,
   "metadata": {},
   "outputs": [],
   "source": [
    "X_train, X_test, y_train, y_test = train_test_split(df['review'], df['sentiment'], test_size = 0.2)"
   ]
  },
  {
   "cell_type": "code",
   "execution_count": 34,
   "metadata": {},
   "outputs": [
    {
     "data": {
      "text/plain": [
       "((40000,), (10000,))"
      ]
     },
     "execution_count": 34,
     "metadata": {},
     "output_type": "execute_result"
    }
   ],
   "source": [
    "X_train.shape, X_test.shape"
   ]
  },
  {
   "cell_type": "code",
   "execution_count": 35,
   "metadata": {},
   "outputs": [],
   "source": [
    "# y_train = tf.keras.utils.to_categorical(y_train, num_classes= 2)\n",
    "# y_test = tf.keras.utils.to_categorical(y_test, num_classes= 2)"
   ]
  },
  {
   "cell_type": "code",
   "execution_count": 36,
   "metadata": {},
   "outputs": [],
   "source": [
    "# Load data using tf.data.Dataset\n",
    "\n",
    "train_dataset = tf.data.Dataset.from_tensor_slices((X_train, y_train))\n",
    "test_dataset = tf.data.Dataset.from_tensor_slices((X_test, y_test))"
   ]
  },
  {
   "cell_type": "code",
   "execution_count": 37,
   "metadata": {},
   "outputs": [
    {
     "name": "stdout",
     "output_type": "stream",
     "text": [
      "text:  b\"i originally seen the flash Gordon serial on PBS,and thought it was fun and awesome,i overlooked the special effects of the rocket ships with sparklers,and the big dragon monster with lobster claws,who cares this is 1936 and it was a serial,so each week they would show a new chapter, buster Crabbe played flash Gordon 3 times,in all 3 serials.then in 1939 he played buck rogers,in 1933 he played Tarzan the fearless.he was a very busy actor.beautiful jean rogers played sexy dale Arden.frank Shannon as professor zarkov,and Charles Middleton played the evil ming the merciless.he makes Darth Vader look like a boyscout.the serials were very close to the Alex Raymond comic strip.space travel was just a pipe dream at the time.not to mention ray guns and television.this one stands out as the best serial ever.the sequel flash Gordon's trip to mars is 2 chapters longer,the next flash Gordon conquers the universe is only 12 chapters.and then there's the natives of mongo..,hawk-men, lion-men,shark-men.the feature version leaves out the shark-men scenes. for the full effect you must see the complete serial.i heard George Lucas was inspired by flash Gordon when he did star wars.flash Gordon was from universal studios.and the music on the soundtrack is from many universal movies like bride of Frankenstein,werewolf of London,Dracula's daughter,etc;even today flash Gordon continues to delight people young and old.10 out of 10.\"\n",
      "label:  1\n"
     ]
    }
   ],
   "source": [
    "for feat, targ in train_dataset.take(1):\n",
    "  print('text: ', feat.numpy())\n",
    "  print('label: ', targ.numpy())"
   ]
  },
  {
   "cell_type": "code",
   "execution_count": 38,
   "metadata": {},
   "outputs": [],
   "source": [
    "BUFFER_SIZE = 20000\n",
    "BATCH_SIZE = 512\n",
    "\n",
    "train_dataset = train_dataset.shuffle(BUFFER_SIZE).batch(BATCH_SIZE).prefetch(tf.data.AUTOTUNE)\n",
    "test_dataset = test_dataset.batch(BATCH_SIZE).prefetch(tf.data.AUTOTUNE)"
   ]
  },
  {
   "cell_type": "code",
   "execution_count": 39,
   "metadata": {},
   "outputs": [],
   "source": [
    "# @tf.keras.utils.register_keras_serializable()\n",
    "# def custom_standardization(input_data):\n",
    "#     lowercase = tf.strings.lower(input_data)\n",
    "#     output = tf.strings.regex_replace(lowercase, \"\\W+|(br)|\\d+\", \" \")\n",
    "#     return output"
   ]
  },
  {
   "cell_type": "code",
   "execution_count": 40,
   "metadata": {},
   "outputs": [],
   "source": [
    "VOCAB_SIZE = 5000\n",
    "encoder = tf.keras.layers.experimental.preprocessing.TextVectorization(\n",
    "    max_tokens = VOCAB_SIZE, standardize = 'lower_and_strip_punctuation',\n",
    "    output_mode = 'int', output_sequence_length = 200,\n",
    ")"
   ]
  },
  {
   "cell_type": "code",
   "execution_count": 41,
   "metadata": {},
   "outputs": [],
   "source": [
    "encoder.adapt(train_dataset.map(lambda text, label: text))"
   ]
  },
  {
   "cell_type": "code",
   "execution_count": 42,
   "metadata": {},
   "outputs": [],
   "source": [
    "vocab = np.array(encoder.get_vocabulary())"
   ]
  },
  {
   "cell_type": "code",
   "execution_count": 43,
   "metadata": {},
   "outputs": [
    {
     "name": "stdout",
     "output_type": "stream",
     "text": [
      "texts:  [b\"This movie was heavily marred by the presence of Steven Seagal. Or as I should say Steven So-dull! Like before Seagal is either too good or too stupid to re-dub his own lines, leaving someone to impersonate his voice for the shots where the sound needed to be looped. A few films before this was he has done this too, but I don't think to this extent! To be honest the film looks pretty good, the script could use some work but parts of this film looked like a real movie! Of course, all told, this film is pretty bad.<br /><br />It would have been much better without Seagal who has become a cartoon of himself. Don't bother. Anything over a buck for this one is too much! I honestly think this is the last time for me and a Seagal film. What's taken me so long to realize this?!\"\n",
      " b'Very few so called \"remakes\" can be as good as the originals. This one crosses that border with flying colors. Just a remake, I don\\'t think so! I saw it theatrically at the age of nine, and was completely entranced and enraptured by the film. <br /><br />The film certainly invites comparisons to its 1963 counterpart. The earlier film is also a enjoyable and entertaining movie, but admittedly it tends to feel more like a nature documentary than a film. This update is more epic and cinematic. Still, I thoroughly recommend both films.<br /><br />This film is certainly a must-see for an animal lover. We have the wise old Golden Retriever, Shadow; the sharp, sarcastic Himalayan cat, Sassy; and the young, fun-loving American Bulldog, Chance. The animals are brilliantly voiced by Don Ameche, Sally Field, and Michael J. Fox, respectively.<br /><br />There is virtually nothing offensive in the film. There is a bit of scatological humor, but nothing extreme. No hard violence, save a few tense scenes involving a pounding waterfall, an angry porcupine, and a dark railroad shaft.<br /><br />Hilarious, scary, moving, and above all real, it surprised me to see that this film didn\\'t win any awards, not one. Nevertheless, I will have to say this is just as good as some of the Best Picture nominees nowadays.'\n",
      " b\"Minor Spoilers<br /><br />Alison Parker (Cristina Raines) is a successful top model, living with the lawyer Michael Lerman (Chris Sarandon) in his apartment. She tried to commit suicide twice in the past: the first time, when she was a teenager and saw her father cheating her mother with two women in her home, and then when Michael's wife died. Since then, she left Christ and the Catholic Church behind. Alison wants to live alone in her own apartment and with the help of the real state agent Miss Logan (Ava Gardner), she finds a wonderful furnished old apartment in Brooklyn Heights for a reasonable rental. She sees a weird man in the window in the last floor of the building, and Miss Logan informs that he is Father Francis Matthew Halloran (John Carradine), a blinded priest who lives alone supported by the Catholic Church. Alison moves to her new place, and once there, she receives a visitor: her neighbor Charles Chazen (Burgess Meredith) welcomes her and introduces the new neighbors to her. Then, he invites Alison to his cat Jezebel's birthday party in the night. On the next day, weird things happen with Alison in her apartment and with her health. Alison looks for Miss Logan and is informed that she lives alone with the priest in the building. A further investigation shows that all the persons she knew in the party were dead criminals. Frightened with the situation, Alison embraces Christ again, while Michael investigates the creepy events. Alison realizes that she is living in the gateway to hell. <br /><br />Although underrated in IMDb User Rating, 'The Sentinel' is one of the best horror movies ever. I have seen this film at least six times, being the first time in the 70's, in the movie theater. In 07 September 2002, I bought the imported DVD and saw it again. Yesterday I saw this movie once more. Even after so many years, this film is still terrific. The creepy and lurid story frightens even in the present days. The cast is a constellation of stars and starlets. You can see many actors and actresses, who became famous, in the beginning of career. Fans of horror movie certainly worships 'The Sentinel', and I am one of them. My vote is nine.<br /><br />Title (Brazil): 'A Sentinela dos Malditos' ('The Sentinel of the Damned')<br /><br />Obs.: On 02 September 2007, I saw this movie again.\"]\n",
      "\n",
      "labels:  [0 1 1]\n"
     ]
    }
   ],
   "source": [
    "for example, label in train_dataset.take(1):\n",
    "  print('texts: ', example.numpy()[:3])\n",
    "  print()\n",
    "  print('labels: ', label.numpy()[:3])"
   ]
  },
  {
   "cell_type": "code",
   "execution_count": 44,
   "metadata": {},
   "outputs": [
    {
     "data": {
      "text/plain": [
       "array([[  11,   18,   14, 2640,    1,   33,    2, 1264,    5, 1933, 2291,\n",
       "          40,   15,   10,  140,  129, 1933,    1,   39,  157, 2291,    7,\n",
       "         351,  101,   50,   40,  101,  365,    6,    1,   25,  198,  407,\n",
       "        1164,  285,    6,    1,   25,  599,   17,    2,  634,  113,    2,\n",
       "         437,  857,    6,   27,    1,    3,  166,   94,  157,   11,   14,\n",
       "          28,   45,  224,   11,  101,   19,   10,   90,  103,    6,   11,\n",
       "        2893,    6,   27, 1198,    2,   20,  273,  177,   50,    2,  228,\n",
       "          97,  344,   47,  164,   19,  501,    5,   11,   20,  571,   39,\n",
       "           3,  145,   18,    5,  259,   32,  550,   11,   20,    7,  177,\n",
       "        3142,   13,    9,   59,   26,   75,   73,  124,  200, 2291,   37,\n",
       "          45,  412,    3, 1076,    5,  312,   90, 1207,  229,  128,    3,\n",
       "        3404,   17,   11,   29,    7,  101,   73,   10, 1165,  103,   11,\n",
       "           7,    2,  235,   60,   17,   70,    4,    3, 2291,   20,  690,\n",
       "         592,   70,   38,  202,    6,  945,   11,    0,    0,    0,    0,\n",
       "           0,    0,    0,    0,    0,    0,    0,    0,    0,    0,    0,\n",
       "           0,    0,    0,    0,    0,    0,    0,    0,    0,    0,    0,\n",
       "           0,    0,    0,    0,    0,    0,    0,    0,    0,    0,    0,\n",
       "           0,    0,    0,    0,    0,    0,    0,    0,    0,    0,    0,\n",
       "           0,    0],\n",
       "       [  53,  166,   38,  473,    1,   69,   27,   15,   50,   15,    2,\n",
       "           1,   11,   29,    1,   12, 4335,   16, 1644, 2574,   41,    3,\n",
       "         989,   10,   90,  103,   38,   10,  204,    9,    1,   31,    2,\n",
       "         640,    5, 3127,    4,   14,  322,    1,    4,    1,   33,    2,\n",
       "          20,   13,   13,    2,   20,  408,    1,    1,    6,   30,    1,\n",
       "           1,    2,  946,   20,    7,   79,    3,  733,    4,  433,   18,\n",
       "          19, 3443,    9, 4086,    6,  231,   52,   39,    3,  909,  659,\n",
       "          72,    3,   20,   11,    1,    7,   52, 1662,    4, 1254,  125,\n",
       "          10, 1579,  356,  191, 3468,   13,   11,   20,    7,  408,    3,\n",
       "        3587,   17,   34, 1726, 1588,   71,   26,    2, 2179,  169, 1718,\n",
       "           1, 2869,    2, 2269,    1,    1, 1218,    1,    4,    2,  186,\n",
       "           1,  301,    1,  570,    2, 1565,   24, 2124,    1,   33, 1603,\n",
       "           1, 3144, 1890,    4,  505, 2728, 1781,    1,   13,   48,    7,\n",
       "        2352,  161, 2488,    8,    2,   20,   48,    7,    3,  221,    5,\n",
       "           1,  450,   19,  161, 1480,   56,  264,  601,  549,    3,  166,\n",
       "        2881,  135, 1132,    3,    1,    1,   34, 1591,    1,    4,    3,\n",
       "         461,    1,    1,   13,  603,  676,  750,    4,  744,   32,  145,\n",
       "           9,  735,   70,    6,   65,   12,   11,   20,  151, 1225,   99,\n",
       "        2295,   22],\n",
       "       [1368, 3483,   13,    1, 2661,    1,    1,    7,    3, 1133,  395,\n",
       "        2278,  577,   16,    2, 2863,  505,    1, 1334,    1,    8,   25,\n",
       "        1635,   57,  745,    6, 3393, 1551, 1495,    8,    2,  493,    2,\n",
       "          88,   60,   51,   57,   14,    3, 2195,    4,  204,   42,  360,\n",
       "        4022,   42,  427,   16,  109,  364,    8,   42,  347,    4,   91,\n",
       "          51,    1,  331, 1041,  233,   91,   57,  310, 3502,    4,    2,\n",
       "        3456, 1619,  506,    1,  474,    6,  421,  607,    8,   42,  198,\n",
       "        1635,    4,   16,    2,  338,    5,    2,  145, 1039, 1520,  700,\n",
       "           1,    1,    1,   57,  662,    3,  379,    1,  169, 1635,    8,\n",
       "           1,    1,   17,    3, 3530, 2344,   57, 1040,    3,  929,  133,\n",
       "           8,    2, 1879,    8,    2,  235, 1835,    5,    2, 1318,    4,\n",
       "         700,    1,    1,   12,   28,    7,  360, 4133, 3645,    1,  309,\n",
       "        4662,    3,    1, 2011,   37,  464,  607,    1,   33,    2, 3456,\n",
       "        1619,    1, 1087,    6,   42,  167,  276,    4,  277,   48,   57,\n",
       "           1,    3,    1,   42, 3874, 1159,    1,    1,    1,    1,   42,\n",
       "           4, 4304,    2,  167, 4190,    6,   42,   91,   28,    1,    1,\n",
       "           6,   25, 1218,    1, 3185, 1014,    8,    2,  316,   21,    2,\n",
       "         353,  267,  929,  178,  591,   16,    1,    8,   42, 1635,    4,\n",
       "          16,   42]])"
      ]
     },
     "execution_count": 44,
     "metadata": {},
     "output_type": "execute_result"
    }
   ],
   "source": [
    "encoded_example = encoder(example)[:3].numpy()\n",
    "encoded_example"
   ]
  },
  {
   "cell_type": "code",
   "execution_count": 45,
   "metadata": {},
   "outputs": [
    {
     "name": "stdout",
     "output_type": "stream",
     "text": [
      "Original:  b\"This movie was heavily marred by the presence of Steven Seagal. Or as I should say Steven So-dull! Like before Seagal is either too good or too stupid to re-dub his own lines, leaving someone to impersonate his voice for the shots where the sound needed to be looped. A few films before this was he has done this too, but I don't think to this extent! To be honest the film looks pretty good, the script could use some work but parts of this film looked like a real movie! Of course, all told, this film is pretty bad.<br /><br />It would have been much better without Seagal who has become a cartoon of himself. Don't bother. Anything over a buck for this one is too much! I honestly think this is the last time for me and a Seagal film. What's taken me so long to realize this?!\"\n",
      "Round-trip:  this movie was heavily [UNK] by the presence of steven seagal or as i should say steven [UNK] like before seagal is either too good or too stupid to [UNK] his own lines leaving someone to [UNK] his voice for the shots where the sound needed to be [UNK] a few films before this was he has done this too but i dont think to this extent to be honest the film looks pretty good the script could use some work but parts of this film looked like a real movie of course all told this film is pretty badbr br it would have been much better without seagal who has become a cartoon of himself dont bother anything over a buck for this one is too much i honestly think this is the last time for me and a seagal film whats taken me so long to realize this                                                  \n",
      "\n",
      "Original:  b'Very few so called \"remakes\" can be as good as the originals. This one crosses that border with flying colors. Just a remake, I don\\'t think so! I saw it theatrically at the age of nine, and was completely entranced and enraptured by the film. <br /><br />The film certainly invites comparisons to its 1963 counterpart. The earlier film is also a enjoyable and entertaining movie, but admittedly it tends to feel more like a nature documentary than a film. This update is more epic and cinematic. Still, I thoroughly recommend both films.<br /><br />This film is certainly a must-see for an animal lover. We have the wise old Golden Retriever, Shadow; the sharp, sarcastic Himalayan cat, Sassy; and the young, fun-loving American Bulldog, Chance. The animals are brilliantly voiced by Don Ameche, Sally Field, and Michael J. Fox, respectively.<br /><br />There is virtually nothing offensive in the film. There is a bit of scatological humor, but nothing extreme. No hard violence, save a few tense scenes involving a pounding waterfall, an angry porcupine, and a dark railroad shaft.<br /><br />Hilarious, scary, moving, and above all real, it surprised me to see that this film didn\\'t win any awards, not one. Nevertheless, I will have to say this is just as good as some of the Best Picture nominees nowadays.'\n",
      "Round-trip:  very few so called [UNK] can be as good as the [UNK] this one [UNK] that border with flying colors just a remake i dont think so i saw it [UNK] at the age of nine and was completely [UNK] and [UNK] by the film br br the film certainly [UNK] [UNK] to its [UNK] [UNK] the earlier film is also a enjoyable and entertaining movie but admittedly it tends to feel more like a nature documentary than a film this [UNK] is more epic and cinematic still i thoroughly recommend both filmsbr br this film is certainly a mustsee for an animal lover we have the wise old golden [UNK] shadow the sharp [UNK] [UNK] cat [UNK] and the young [UNK] american [UNK] chance the animals are brilliantly [UNK] by don [UNK] sally field and michael j fox [UNK] br there is virtually nothing offensive in the film there is a bit of [UNK] humor but nothing extreme no hard violence save a few tense scenes involving a [UNK] [UNK] an angry [UNK] and a dark [UNK] [UNK] br hilarious scary moving and above all real it surprised me to see that this film didnt win any awards not\n",
      "\n",
      "Original:  b\"Minor Spoilers<br /><br />Alison Parker (Cristina Raines) is a successful top model, living with the lawyer Michael Lerman (Chris Sarandon) in his apartment. She tried to commit suicide twice in the past: the first time, when she was a teenager and saw her father cheating her mother with two women in her home, and then when Michael's wife died. Since then, she left Christ and the Catholic Church behind. Alison wants to live alone in her own apartment and with the help of the real state agent Miss Logan (Ava Gardner), she finds a wonderful furnished old apartment in Brooklyn Heights for a reasonable rental. She sees a weird man in the window in the last floor of the building, and Miss Logan informs that he is Father Francis Matthew Halloran (John Carradine), a blinded priest who lives alone supported by the Catholic Church. Alison moves to her new place, and once there, she receives a visitor: her neighbor Charles Chazen (Burgess Meredith) welcomes her and introduces the new neighbors to her. Then, he invites Alison to his cat Jezebel's birthday party in the night. On the next day, weird things happen with Alison in her apartment and with her health. Alison looks for Miss Logan and is informed that she lives alone with the priest in the building. A further investigation shows that all the persons she knew in the party were dead criminals. Frightened with the situation, Alison embraces Christ again, while Michael investigates the creepy events. Alison realizes that she is living in the gateway to hell. <br /><br />Although underrated in IMDb User Rating, 'The Sentinel' is one of the best horror movies ever. I have seen this film at least six times, being the first time in the 70's, in the movie theater. In 07 September 2002, I bought the imported DVD and saw it again. Yesterday I saw this movie once more. Even after so many years, this film is still terrific. The creepy and lurid story frightens even in the present days. The cast is a constellation of stars and starlets. You can see many actors and actresses, who became famous, in the beginning of career. Fans of horror movie certainly worships 'The Sentinel', and I am one of them. My vote is nine.<br /><br />Title (Brazil): 'A Sentinela dos Malditos' ('The Sentinel of the Damned')<br /><br />Obs.: On 02 September 2007, I saw this movie again.\"\n",
      "Round-trip:  minor spoilersbr br [UNK] parker [UNK] [UNK] is a successful top model living with the lawyer michael [UNK] chris [UNK] in his apartment she tried to commit suicide twice in the past the first time when she was a teenager and saw her father cheating her mother with two women in her home and then when [UNK] wife died since then she left christ and the catholic church behind [UNK] wants to live alone in her own apartment and with the help of the real state agent miss [UNK] [UNK] [UNK] she finds a wonderful [UNK] old apartment in [UNK] [UNK] for a reasonable rental she sees a weird man in the window in the last floor of the building and miss [UNK] [UNK] that he is father francis matthew [UNK] john carradine a [UNK] priest who lives alone [UNK] by the catholic church [UNK] moves to her new place and once there she [UNK] a [UNK] her neighbor charles [UNK] [UNK] [UNK] [UNK] her and introduces the new neighbors to her then he [UNK] [UNK] to his cat [UNK] birthday party in the night on the next day weird things happen with [UNK] in her apartment and with her\n",
      "\n"
     ]
    }
   ],
   "source": [
    "for n in range(3):\n",
    "  print(\"Original: \", example[n].numpy())\n",
    "  print(\"Round-trip: \", \" \".join(vocab[encoded_example[n]]))\n",
    "  print()"
   ]
  },
  {
   "cell_type": "code",
   "execution_count": 46,
   "metadata": {},
   "outputs": [],
   "source": [
    "from tensorflow.keras.layers import Bidirectional,LSTM, Dense, Embedding, Dropout, GlobalAveragePooling1D"
   ]
  },
  {
   "cell_type": "code",
   "execution_count": 47,
   "metadata": {},
   "outputs": [],
   "source": [
    "model = tf.keras.Sequential([\n",
    "    encoder,\n",
    "    Embedding(input_dim=len(encoder.get_vocabulary()), output_dim= 256, mask_zero=True),\n",
    "    GlobalAveragePooling1D(),\n",
    "    Dropout(0.2),\n",
    "    Dense(128, activation = 'relu'),\n",
    "    Dropout(0.2),\n",
    "    Dense(1, activation = 'sigmoid')])"
   ]
  },
  {
   "cell_type": "code",
   "execution_count": 48,
   "metadata": {},
   "outputs": [],
   "source": [
    "model.compile(optimizer= tf.keras.optimizers.Adam(learning_rate= 0.001), \n",
    "              loss = tf.keras.losses.BinaryCrossentropy(from_logits= False), metrics = ['accuracy']\n",
    "              )"
   ]
  },
  {
   "cell_type": "code",
   "execution_count": 49,
   "metadata": {},
   "outputs": [
    {
     "name": "stdout",
     "output_type": "stream",
     "text": [
      "Epoch 1/10\n",
      "79/79 [==============================] - 16s 197ms/step - loss: 0.6497 - accuracy: 0.6673 - val_loss: 0.3784 - val_accuracy: 0.8355\n",
      "Epoch 2/10\n",
      "79/79 [==============================] - 15s 186ms/step - loss: 0.3457 - accuracy: 0.8512 - val_loss: 0.3112 - val_accuracy: 0.8687\n",
      "Epoch 3/10\n",
      "79/79 [==============================] - 15s 186ms/step - loss: 0.2755 - accuracy: 0.8834 - val_loss: 0.3052 - val_accuracy: 0.8711\n",
      "Epoch 4/10\n",
      "79/79 [==============================] - 15s 192ms/step - loss: 0.2536 - accuracy: 0.8957 - val_loss: 0.3110 - val_accuracy: 0.8699\n",
      "Epoch 5/10\n",
      "79/79 [==============================] - 15s 185ms/step - loss: 0.2389 - accuracy: 0.9038 - val_loss: 0.3162 - val_accuracy: 0.8727\n",
      "Epoch 6/10\n",
      "79/79 [==============================] - 15s 185ms/step - loss: 0.2283 - accuracy: 0.9074 - val_loss: 0.3241 - val_accuracy: 0.8703\n",
      "Epoch 7/10\n",
      "79/79 [==============================] - 15s 184ms/step - loss: 0.2247 - accuracy: 0.9103 - val_loss: 0.3305 - val_accuracy: 0.8680\n",
      "Epoch 8/10\n",
      "79/79 [==============================] - 15s 185ms/step - loss: 0.2205 - accuracy: 0.9110 - val_loss: 0.3329 - val_accuracy: 0.8676\n",
      "Epoch 9/10\n",
      "79/79 [==============================] - 15s 189ms/step - loss: 0.2210 - accuracy: 0.9106 - val_loss: 0.3418 - val_accuracy: 0.8629\n",
      "Epoch 10/10\n",
      "79/79 [==============================] - 15s 193ms/step - loss: 0.2113 - accuracy: 0.9164 - val_loss: 0.3440 - val_accuracy: 0.8617\n"
     ]
    }
   ],
   "source": [
    "history = model.fit(train_dataset, epochs=10,\n",
    "                    validation_data=test_dataset, \n",
    "                    validation_steps=5)"
   ]
  },
  {
   "cell_type": "code",
   "execution_count": 50,
   "metadata": {},
   "outputs": [
    {
     "name": "stdout",
     "output_type": "stream",
     "text": [
      "20/20 [==============================] - 2s 99ms/step - loss: 0.3457 - accuracy: 0.8626\n",
      "Loss:  0.3457462191581726\n",
      "Accuracy:  0.8626000285148621\n"
     ]
    }
   ],
   "source": [
    "loss, accuracy = model.evaluate(test_dataset)\n",
    "\n",
    "print(\"Loss: \", loss)\n",
    "print(\"Accuracy: \", accuracy)"
   ]
  },
  {
   "cell_type": "code",
   "execution_count": 51,
   "metadata": {},
   "outputs": [
    {
     "data": {
      "text/plain": [
       "dict_keys(['loss', 'accuracy', 'val_loss', 'val_accuracy'])"
      ]
     },
     "execution_count": 51,
     "metadata": {},
     "output_type": "execute_result"
    }
   ],
   "source": [
    "history_dict = history.history\n",
    "history_dict.keys()"
   ]
  },
  {
   "cell_type": "code",
   "execution_count": 52,
   "metadata": {},
   "outputs": [
    {
     "data": {
      "image/png": "[encoded data removed]",
      "text/plain": [
       "<Figure size 432x288 with 1 Axes>"
      ]
     },
     "metadata": {
      "needs_background": "light"
     },
     "output_type": "display_data"
    }
   ],
   "source": [
    "acc = history_dict['accuracy']\n",
    "val_acc = history_dict['val_accuracy']\n",
    "loss = history_dict['loss']\n",
    "val_loss = history_dict['val_loss']\n",
    "\n",
    "epochs = range(1, len(acc) + 1)\n",
    "\n",
    "# \"bo\" is for \"blue dot\"\n",
    "plt.plot(epochs, loss, 'bo', label='Training loss')\n",
    "# b is for \"solid blue line\"\n",
    "plt.plot(epochs, val_loss, 'b', label='Validation loss')\n",
    "plt.title('Training and validation loss')\n",
    "plt.xlabel('Epochs')\n",
    "plt.ylabel('Loss')\n",
    "plt.legend()\n",
    "plt.show()"
   ]
  },
  {
   "cell_type": "code",
   "execution_count": 53,
   "metadata": {},
   "outputs": [
    {
     "data": {
      "image/png": "[encoded data removed]",
      "text/plain": [
       "<Figure size 432x288 with 1 Axes>"
      ]
     },
     "metadata": {
      "needs_background": "light"
     },
     "output_type": "display_data"
    }
   ],
   "source": [
    "plt.plot(epochs, acc, 'bo', label='Training acc')\n",
    "plt.plot(epochs, val_acc, 'b', label='Validation acc')\n",
    "plt.title('Training and validation accuracy')\n",
    "plt.xlabel('Epochs')\n",
    "plt.ylabel('Accuracy')\n",
    "plt.legend(loc='lower right')\n",
    "\n",
    "plt.show()"
   ]
  },
  {
   "cell_type": "code",
   "execution_count": 54,
   "metadata": {},
   "outputs": [],
   "source": [
    "example = ['GODZILLA VS. KONG is laced with a great story and buildup and the climax battle between the monsters is amazing',\n",
    "          'The movie was terrible']"
   ]
  },
  {
   "cell_type": "code",
   "execution_count": 55,
   "metadata": {},
   "outputs": [
    {
     "data": {
      "text/plain": [
       "array([[9.9999905e-01],\n",
       "       [1.2416974e-13]], dtype=float32)"
      ]
     },
     "execution_count": 55,
     "metadata": {},
     "output_type": "execute_result"
    }
   ],
   "source": [
    "model.predict(example)"
   ]
  },
  {
   "cell_type": "code",
   "execution_count": 59,
   "metadata": {},
   "outputs": [
    {
     "ename": "FailedPreconditionError",
     "evalue": "tf_keras_imdb is not a directory",
     "output_type": "error",
     "traceback": [
      "\u001b[0;31m---------------------------------------------------------------------------\u001b[0m",
      "\u001b[0;31mFailedPreconditionError\u001b[0m                   Traceback (most recent call last)",
      "\u001b[0;32m<ipython-input-59-9a29030a183c>\u001b[0m in \u001b[0;36m<module>\u001b[0;34m\u001b[0m\n\u001b[0;32m----> 1\u001b[0;31m \u001b[0mmodel\u001b[0m\u001b[0;34m.\u001b[0m\u001b[0msave\u001b[0m\u001b[0;34m(\u001b[0m\u001b[0;34m'tf_keras_imdb/'\u001b[0m\u001b[0;34m,\u001b[0m \u001b[0msave_format\u001b[0m\u001b[0;34m=\u001b[0m \u001b[0;34m'tf'\u001b[0m\u001b[0;34m)\u001b[0m\u001b[0;34m\u001b[0m\u001b[0;34m\u001b[0m\u001b[0m\n\u001b[0m",
      "\u001b[0;32m~/opt/anaconda3/lib/python3.8/site-packages/tensorflow/python/keras/engine/training.py\u001b[0m in \u001b[0;36msave\u001b[0;34m(self, filepath, overwrite, include_optimizer, save_format, signatures, options, save_traces)\u001b[0m\n\u001b[1;32m   1999\u001b[0m     \"\"\"\n\u001b[1;32m   2000\u001b[0m     \u001b[0;31m# pylint: enable=line-too-long\u001b[0m\u001b[0;34m\u001b[0m\u001b[0;34m\u001b[0m\u001b[0;34m\u001b[0m\u001b[0m\n\u001b[0;32m-> 2001\u001b[0;31m     save.save_model(self, filepath, overwrite, include_optimizer, save_format,\n\u001b[0m\u001b[1;32m   2002\u001b[0m                     signatures, options, save_traces)\n\u001b[1;32m   2003\u001b[0m \u001b[0;34m\u001b[0m\u001b[0m\n",
      "\u001b[0;32m~/opt/anaconda3/lib/python3.8/site-packages/tensorflow/python/keras/saving/save.py\u001b[0m in \u001b[0;36msave_model\u001b[0;34m(model, filepath, overwrite, include_optimizer, save_format, signatures, options, save_traces)\u001b[0m\n\u001b[1;32m    154\u001b[0m         model, filepath, overwrite, include_optimizer)\n\u001b[1;32m    155\u001b[0m   \u001b[0;32melse\u001b[0m\u001b[0;34m:\u001b[0m\u001b[0;34m\u001b[0m\u001b[0;34m\u001b[0m\u001b[0m\n\u001b[0;32m--> 156\u001b[0;31m     saved_model_save.save(model, filepath, overwrite, include_optimizer,\n\u001b[0m\u001b[1;32m    157\u001b[0m                           signatures, options, save_traces)\n\u001b[1;32m    158\u001b[0m \u001b[0;34m\u001b[0m\u001b[0m\n",
      "\u001b[0;32m~/opt/anaconda3/lib/python3.8/site-packages/tensorflow/python/keras/saving/saved_model/save.py\u001b[0m in \u001b[0;36msave\u001b[0;34m(model, filepath, overwrite, include_optimizer, signatures, options, save_traces)\u001b[0m\n\u001b[1;32m     87\u001b[0m     \u001b[0;32mwith\u001b[0m \u001b[0mdistribution_strategy_context\u001b[0m\u001b[0;34m.\u001b[0m\u001b[0m_get_default_replica_context\u001b[0m\u001b[0;34m(\u001b[0m\u001b[0;34m)\u001b[0m\u001b[0;34m:\u001b[0m  \u001b[0;31m# pylint: disable=protected-access\u001b[0m\u001b[0;34m\u001b[0m\u001b[0;34m\u001b[0m\u001b[0m\n\u001b[1;32m     88\u001b[0m       \u001b[0;32mwith\u001b[0m \u001b[0mutils\u001b[0m\u001b[0;34m.\u001b[0m\u001b[0mkeras_option_scope\u001b[0m\u001b[0;34m(\u001b[0m\u001b[0msave_traces\u001b[0m\u001b[0;34m)\u001b[0m\u001b[0;34m:\u001b[0m\u001b[0;34m\u001b[0m\u001b[0;34m\u001b[0m\u001b[0m\n\u001b[0;32m---> 89\u001b[0;31m         \u001b[0msave_lib\u001b[0m\u001b[0;34m.\u001b[0m\u001b[0msave\u001b[0m\u001b[0;34m(\u001b[0m\u001b[0mmodel\u001b[0m\u001b[0;34m,\u001b[0m \u001b[0mfilepath\u001b[0m\u001b[0;34m,\u001b[0m \u001b[0msignatures\u001b[0m\u001b[0;34m,\u001b[0m \u001b[0moptions\u001b[0m\u001b[0;34m)\u001b[0m\u001b[0;34m\u001b[0m\u001b[0;34m\u001b[0m\u001b[0m\n\u001b[0m\u001b[1;32m     90\u001b[0m \u001b[0;34m\u001b[0m\u001b[0m\n\u001b[1;32m     91\u001b[0m   \u001b[0;32mif\u001b[0m \u001b[0;32mnot\u001b[0m \u001b[0minclude_optimizer\u001b[0m\u001b[0;34m:\u001b[0m\u001b[0;34m\u001b[0m\u001b[0;34m\u001b[0m\u001b[0m\n",
      "\u001b[0;32m~/opt/anaconda3/lib/python3.8/site-packages/tensorflow/python/saved_model/save.py\u001b[0m in \u001b[0;36msave\u001b[0;34m(obj, export_dir, signatures, options)\u001b[0m\n\u001b[1;32m   1036\u001b[0m   \u001b[0;31m# Write the checkpoint, copy assets into the assets directory, and write out\u001b[0m\u001b[0;34m\u001b[0m\u001b[0;34m\u001b[0m\u001b[0;34m\u001b[0m\u001b[0m\n\u001b[1;32m   1037\u001b[0m   \u001b[0;31m# the SavedModel proto itself.\u001b[0m\u001b[0;34m\u001b[0m\u001b[0;34m\u001b[0m\u001b[0;34m\u001b[0m\u001b[0m\n\u001b[0;32m-> 1038\u001b[0;31m   \u001b[0mutils_impl\u001b[0m\u001b[0;34m.\u001b[0m\u001b[0mget_or_create_variables_dir\u001b[0m\u001b[0;34m(\u001b[0m\u001b[0mexport_dir\u001b[0m\u001b[0;34m)\u001b[0m\u001b[0;34m\u001b[0m\u001b[0;34m\u001b[0m\u001b[0m\n\u001b[0m\u001b[1;32m   1039\u001b[0m   ckpt_options = checkpoint_options.CheckpointOptions(\n\u001b[1;32m   1040\u001b[0m       experimental_io_device=options.experimental_io_device)\n",
      "\u001b[0;32m~/opt/anaconda3/lib/python3.8/site-packages/tensorflow/python/saved_model/utils_impl.py\u001b[0m in \u001b[0;36mget_or_create_variables_dir\u001b[0;34m(export_dir)\u001b[0m\n\u001b[1;32m    218\u001b[0m   \u001b[0mvariables_dir\u001b[0m \u001b[0;34m=\u001b[0m \u001b[0mget_variables_dir\u001b[0m\u001b[0;34m(\u001b[0m\u001b[0mexport_dir\u001b[0m\u001b[0;34m)\u001b[0m\u001b[0;34m\u001b[0m\u001b[0;34m\u001b[0m\u001b[0m\n\u001b[1;32m    219\u001b[0m   \u001b[0;32mif\u001b[0m \u001b[0;32mnot\u001b[0m \u001b[0mfile_io\u001b[0m\u001b[0;34m.\u001b[0m\u001b[0mfile_exists\u001b[0m\u001b[0;34m(\u001b[0m\u001b[0mvariables_dir\u001b[0m\u001b[0;34m)\u001b[0m\u001b[0;34m:\u001b[0m\u001b[0;34m\u001b[0m\u001b[0;34m\u001b[0m\u001b[0m\n\u001b[0;32m--> 220\u001b[0;31m     \u001b[0mfile_io\u001b[0m\u001b[0;34m.\u001b[0m\u001b[0mrecursive_create_dir\u001b[0m\u001b[0;34m(\u001b[0m\u001b[0mvariables_dir\u001b[0m\u001b[0;34m)\u001b[0m\u001b[0;34m\u001b[0m\u001b[0;34m\u001b[0m\u001b[0m\n\u001b[0m\u001b[1;32m    221\u001b[0m   \u001b[0;32mreturn\u001b[0m \u001b[0mvariables_dir\u001b[0m\u001b[0;34m\u001b[0m\u001b[0;34m\u001b[0m\u001b[0m\n\u001b[1;32m    222\u001b[0m \u001b[0;34m\u001b[0m\u001b[0m\n",
      "\u001b[0;32m~/opt/anaconda3/lib/python3.8/site-packages/tensorflow/python/lib/io/file_io.py\u001b[0m in \u001b[0;36mrecursive_create_dir\u001b[0;34m(dirname)\u001b[0m\n\u001b[1;32m    466\u001b[0m     \u001b[0merrors\u001b[0m\u001b[0;34m.\u001b[0m\u001b[0mOpError\u001b[0m\u001b[0;34m:\u001b[0m \u001b[0mIf\u001b[0m \u001b[0mthe\u001b[0m \u001b[0moperation\u001b[0m \u001b[0mfails\u001b[0m\u001b[0;34m.\u001b[0m\u001b[0;34m\u001b[0m\u001b[0;34m\u001b[0m\u001b[0m\n\u001b[1;32m    467\u001b[0m   \"\"\"\n\u001b[0;32m--> 468\u001b[0;31m   \u001b[0mrecursive_create_dir_v2\u001b[0m\u001b[0;34m(\u001b[0m\u001b[0mdirname\u001b[0m\u001b[0;34m)\u001b[0m\u001b[0;34m\u001b[0m\u001b[0;34m\u001b[0m\u001b[0m\n\u001b[0m\u001b[1;32m    469\u001b[0m \u001b[0;34m\u001b[0m\u001b[0m\n\u001b[1;32m    470\u001b[0m \u001b[0;34m\u001b[0m\u001b[0m\n",
      "\u001b[0;32m~/opt/anaconda3/lib/python3.8/site-packages/tensorflow/python/lib/io/file_io.py\u001b[0m in \u001b[0;36mrecursive_create_dir_v2\u001b[0;34m(path)\u001b[0m\n\u001b[1;32m    481\u001b[0m     \u001b[0merrors\u001b[0m\u001b[0;34m.\u001b[0m\u001b[0mOpError\u001b[0m\u001b[0;34m:\u001b[0m \u001b[0mIf\u001b[0m \u001b[0mthe\u001b[0m \u001b[0moperation\u001b[0m \u001b[0mfails\u001b[0m\u001b[0;34m.\u001b[0m\u001b[0;34m\u001b[0m\u001b[0;34m\u001b[0m\u001b[0m\n\u001b[1;32m    482\u001b[0m   \"\"\"\n\u001b[0;32m--> 483\u001b[0;31m   \u001b[0m_pywrap_file_io\u001b[0m\u001b[0;34m.\u001b[0m\u001b[0mRecursivelyCreateDir\u001b[0m\u001b[0;34m(\u001b[0m\u001b[0mcompat\u001b[0m\u001b[0;34m.\u001b[0m\u001b[0mpath_to_bytes\u001b[0m\u001b[0;34m(\u001b[0m\u001b[0mpath\u001b[0m\u001b[0;34m)\u001b[0m\u001b[0;34m)\u001b[0m\u001b[0;34m\u001b[0m\u001b[0;34m\u001b[0m\u001b[0m\n\u001b[0m\u001b[1;32m    484\u001b[0m \u001b[0;34m\u001b[0m\u001b[0m\n\u001b[1;32m    485\u001b[0m \u001b[0;34m\u001b[0m\u001b[0m\n",
      "\u001b[0;31mFailedPreconditionError\u001b[0m: tf_keras_imdb is not a directory"
     ]
    }
   ],
   "source": [
    "model.save('tf_keras_imdb/', save_format= 'tf')"
   ]
  },
  {
   "cell_type": "code",
   "execution_count": 50,
   "metadata": {},
   "outputs": [],
   "source": [
    "exported_model = tf.keras.models.load_model('tf_keras_imdb/')"
   ]
  },
  {
   "cell_type": "code",
   "execution_count": 52,
   "metadata": {},
   "outputs": [
    {
     "data": {
      "text/plain": [
       "array([[0.99999976]], dtype=float32)"
      ]
     },
     "execution_count": 52,
     "metadata": {},
     "output_type": "execute_result"
    }
   ],
   "source": [
    "exported_model.predict(['GODZILLA VS. KONG is laced with a great story and buildup and the climax battle between the monsters is amazing'])"
   ]
  },
  {
   "cell_type": "code",
   "execution_count": 53,
   "metadata": {},
   "outputs": [],
   "source": [
    "import requests"
   ]
  },
  {
   "cell_type": "code",
   "execution_count": 73,
   "metadata": {},
   "outputs": [
    {
     "name": "stdout",
     "output_type": "stream",
     "text": [
      "{'prediction': 0.9999997615814209}\n"
     ]
    }
   ],
   "source": [
    "import requests\n",
    "\n",
    "url = 'http://127.0.0.1:8000/predict'\n",
    "data = {'review': 'GODZILLA VS. KONG is laced with a great story and buildup and the climax battle between the monsters is amazing'}\n",
    "\n",
    "resp = requests.post(url, json=data)\n",
    "print(resp.json())"
   ]
  },
  {
   "cell_type": "code",
   "execution_count": null,
   "metadata": {},
   "outputs": [],
   "source": []
  }
 ],
 "metadata": {
  "kernelspec": {
   "display_name": "Python 3",
   "language": "python",
   "name": "python3"
  },
  "language_info": {
   "codemirror_mode": {
    "name": "ipython",
    "version": 3
   },
   "file_extension": ".py",
   "mimetype": "text/x-python",
   "name": "python",
   "nbconvert_exporter": "python",
   "pygments_lexer": "ipython3",
   "version": "3.8.5"
  }
 },
 "nbformat": 4,
 "nbformat_minor": 4
}
