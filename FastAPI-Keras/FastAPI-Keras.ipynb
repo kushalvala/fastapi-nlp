{
 "cells": [
  {
   "cell_type": "code",
   "execution_count": 1,
   "metadata": {},
   "outputs": [],
   "source": [
    "# Importing necessary libraries\n",
    "\n",
    "import tensorflow as tf\n",
    "import pandas as pd\n",
    "import numpy as np\n",
    "import matplotlib.pyplot as plt\n",
    "import seaborn as sns\n",
    "import nltk\n",
    "import re\n",
    "from sklearn.model_selection import train_test_split\n",
    "%matplotlib inline"
   ]
  },
  {
   "cell_type": "code",
   "execution_count": 2,
   "metadata": {},
   "outputs": [
    {
     "data": {
      "text/plain": [
       "'2.4.1'"
      ]
     },
     "execution_count": 2,
     "metadata": {},
     "output_type": "execute_result"
    }
   ],
   "source": [
    "tf.__version__"
   ]
  },
  {
   "cell_type": "code",
   "execution_count": 3,
   "metadata": {},
   "outputs": [],
   "source": [
    "# Reading the dataset\n",
    "df = pd.read_csv('IMDB Dataset.csv')"
   ]
  },
  {
   "cell_type": "code",
   "execution_count": 4,
   "metadata": {},
   "outputs": [
    {
     "data": {
      "text/html": [
       "<div>\n",
       "<style scoped>\n",
       "    .dataframe tbody tr th:only-of-type {\n",
       "        vertical-align: middle;\n",
       "    }\n",
       "\n",
       "    .dataframe tbody tr th {\n",
       "        vertical-align: top;\n",
       "    }\n",
       "\n",
       "    .dataframe thead th {\n",
       "        text-align: right;\n",
       "    }\n",
       "</style>\n",
       "<table border=\"1\" class=\"dataframe\">\n",
       "  <thead>\n",
       "    <tr style=\"text-align: right;\">\n",
       "      <th></th>\n",
       "      <th>review</th>\n",
       "      <th>sentiment</th>\n",
       "    </tr>\n",
       "  </thead>\n",
       "  <tbody>\n",
       "    <tr>\n",
       "      <th>0</th>\n",
       "      <td>One of the other reviewers has mentioned that ...</td>\n",
       "      <td>positive</td>\n",
       "    </tr>\n",
       "    <tr>\n",
       "      <th>1</th>\n",
       "      <td>A wonderful little production. &lt;br /&gt;&lt;br /&gt;The...</td>\n",
       "      <td>positive</td>\n",
       "    </tr>\n",
       "    <tr>\n",
       "      <th>2</th>\n",
       "      <td>I thought this was a wonderful way to spend ti...</td>\n",
       "      <td>positive</td>\n",
       "    </tr>\n",
       "    <tr>\n",
       "      <th>3</th>\n",
       "      <td>Basically there's a family where a little boy ...</td>\n",
       "      <td>negative</td>\n",
       "    </tr>\n",
       "    <tr>\n",
       "      <th>4</th>\n",
       "      <td>Petter Mattei's \"Love in the Time of Money\" is...</td>\n",
       "      <td>positive</td>\n",
       "    </tr>\n",
       "  </tbody>\n",
       "</table>\n",
       "</div>"
      ],
      "text/plain": [
       "                                              review sentiment\n",
       "0  One of the other reviewers has mentioned that ...  positive\n",
       "1  A wonderful little production. <br /><br />The...  positive\n",
       "2  I thought this was a wonderful way to spend ti...  positive\n",
       "3  Basically there's a family where a little boy ...  negative\n",
       "4  Petter Mattei's \"Love in the Time of Money\" is...  positive"
      ]
     },
     "execution_count": 4,
     "metadata": {},
     "output_type": "execute_result"
    }
   ],
   "source": [
    "df.head()"
   ]
  },
  {
   "cell_type": "code",
   "execution_count": 5,
   "metadata": {},
   "outputs": [
    {
     "data": {
      "text/plain": [
       "(50000, 2)"
      ]
     },
     "execution_count": 5,
     "metadata": {},
     "output_type": "execute_result"
    }
   ],
   "source": [
    "# There are 50k reviews of movies.\n",
    "df.shape"
   ]
  },
  {
   "cell_type": "code",
   "execution_count": 6,
   "metadata": {},
   "outputs": [
    {
     "data": {
      "text/plain": [
       "positive    25000\n",
       "negative    25000\n",
       "Name: sentiment, dtype: int64"
      ]
     },
     "execution_count": 6,
     "metadata": {},
     "output_type": "execute_result"
    }
   ],
   "source": [
    "# It's a balanced distribution of both sentiments\n",
    "df['sentiment'].value_counts()"
   ]
  },
  {
   "cell_type": "markdown",
   "metadata": {},
   "source": [
    "Encoding the sentiment:  \n",
    "negative - 0 , positive - 1"
   ]
  },
  {
   "cell_type": "code",
   "execution_count": 7,
   "metadata": {},
   "outputs": [],
   "source": [
    "df['sentiment'] = df['sentiment'].map({'positive' : 1, 'negative': 0})"
   ]
  },
  {
   "cell_type": "code",
   "execution_count": 8,
   "metadata": {},
   "outputs": [
    {
     "data": {
      "text/html": [
       "<div>\n",
       "<style scoped>\n",
       "    .dataframe tbody tr th:only-of-type {\n",
       "        vertical-align: middle;\n",
       "    }\n",
       "\n",
       "    .dataframe tbody tr th {\n",
       "        vertical-align: top;\n",
       "    }\n",
       "\n",
       "    .dataframe thead th {\n",
       "        text-align: right;\n",
       "    }\n",
       "</style>\n",
       "<table border=\"1\" class=\"dataframe\">\n",
       "  <thead>\n",
       "    <tr style=\"text-align: right;\">\n",
       "      <th></th>\n",
       "      <th>review</th>\n",
       "      <th>sentiment</th>\n",
       "    </tr>\n",
       "  </thead>\n",
       "  <tbody>\n",
       "    <tr>\n",
       "      <th>0</th>\n",
       "      <td>One of the other reviewers has mentioned that ...</td>\n",
       "      <td>1</td>\n",
       "    </tr>\n",
       "    <tr>\n",
       "      <th>1</th>\n",
       "      <td>A wonderful little production. &lt;br /&gt;&lt;br /&gt;The...</td>\n",
       "      <td>1</td>\n",
       "    </tr>\n",
       "    <tr>\n",
       "      <th>2</th>\n",
       "      <td>I thought this was a wonderful way to spend ti...</td>\n",
       "      <td>1</td>\n",
       "    </tr>\n",
       "    <tr>\n",
       "      <th>3</th>\n",
       "      <td>Basically there's a family where a little boy ...</td>\n",
       "      <td>0</td>\n",
       "    </tr>\n",
       "    <tr>\n",
       "      <th>4</th>\n",
       "      <td>Petter Mattei's \"Love in the Time of Money\" is...</td>\n",
       "      <td>1</td>\n",
       "    </tr>\n",
       "  </tbody>\n",
       "</table>\n",
       "</div>"
      ],
      "text/plain": [
       "                                              review  sentiment\n",
       "0  One of the other reviewers has mentioned that ...          1\n",
       "1  A wonderful little production. <br /><br />The...          1\n",
       "2  I thought this was a wonderful way to spend ti...          1\n",
       "3  Basically there's a family where a little boy ...          0\n",
       "4  Petter Mattei's \"Love in the Time of Money\" is...          1"
      ]
     },
     "execution_count": 8,
     "metadata": {},
     "output_type": "execute_result"
    }
   ],
   "source": [
    "df.head()"
   ]
  },
  {
   "cell_type": "markdown",
   "metadata": {},
   "source": [
    "Estimation of Vocabulary of Corpus"
   ]
  },
  {
   "cell_type": "code",
   "execution_count": 9,
   "metadata": {},
   "outputs": [],
   "source": [
    "df_temp = df.copy()"
   ]
  },
  {
   "cell_type": "code",
   "execution_count": 10,
   "metadata": {},
   "outputs": [
    {
     "name": "stderr",
     "output_type": "stream",
     "text": [
      "[nltk_data] Downloading package stopwords to\n",
      "[nltk_data]     /Users/kushalvala/nltk_data...\n",
      "[nltk_data]   Package stopwords is already up-to-date!\n"
     ]
    }
   ],
   "source": [
    "from nltk.corpus import stopwords \n",
    "nltk.download('stopwords')\n",
    "stop_words = stopwords.words('english')"
   ]
  },
  {
   "cell_type": "code",
   "execution_count": 11,
   "metadata": {},
   "outputs": [],
   "source": [
    "df_temp['review'] = df_temp['review'].str.lower()\n",
    "df_temp['review'] =  df_temp['review'].apply(lambda x: re.sub(r'\\W+|\\d+|(br)',' ', str(x)))\n",
    "df_temp['review'] = df_temp['review'].apply(lambda x: x.rstrip())\n",
    "df_temp['review'] = df_temp['review'].apply(lambda x : ' '.join([w for w in x.split() if not w in stop_words]))"
   ]
  },
  {
   "cell_type": "code",
   "execution_count": 12,
   "metadata": {},
   "outputs": [
    {
     "data": {
      "text/plain": [
       "\"One of the other reviewers has mentioned that after watching just 1 Oz episode you'll be hooked. They are right, as this is exactly what happened with me.<br /><br />The first thing that struck me about Oz was its brutality and unflinching scenes of violence, which set in right from the word GO. Trust me, this is not a show for the faint hearted or timid. This show pulls no punches with regards to drugs, sex or violence. Its is hardcore, in the classic use of the word.<br /><br />It is called OZ as that is the nickname given to the Oswald Maximum Security State Penitentary. It focuses mainly on Emerald City, an experimental section of the prison where all the cells have glass fronts and face inwards, so privacy is not high on the agenda. Em City is home to many..Aryans, Muslims, gangstas, Latinos, Christians, Italians, Irish and more....so scuffles, death stares, dodgy dealings and shady agreements are never far away.<br /><br />I would say the main appeal of the show is due to the fact that it goes where other shows wouldn't dare. Forget pretty pictures painted for mainstream audiences, forget charm, forget romance...OZ doesn't mess around. The first episode I ever saw struck me as so nasty it was surreal, I couldn't say I was ready for it, but as I watched more, I developed a taste for Oz, and got accustomed to the high levels of graphic violence. Not just violence, but injustice (crooked guards who'll be sold out for a nickel, inmates who'll kill on order and get away with it, well mannered, middle class inmates being turned into prison bitches due to their lack of street skills or prison experience) Watching Oz, you may become comfortable with what is uncomfortable viewing....thats if you can get in touch with your darker side.\""
      ]
     },
     "execution_count": 12,
     "metadata": {},
     "output_type": "execute_result"
    }
   ],
   "source": [
    "df['review'][0]"
   ]
  },
  {
   "cell_type": "code",
   "execution_count": 13,
   "metadata": {},
   "outputs": [
    {
     "data": {
      "text/plain": [
       "'one reviewers mentioned watching oz episode hooked right exactly happened first thing struck oz utality unflinching scenes violence set right word go trust show faint hearted timid show pulls punches regards drugs sex violence hardcore classic use word called oz nickname given oswald maximum security state penitentary focuses mainly emerald city experimental section prison cells glass fronts face inwards privacy high agenda em city home many aryans muslims gangstas latinos christians italians irish scuffles death stares dodgy dealings shady agreements never far away would say main appeal show due fact goes shows dare forget pretty pictures painted mainstream audiences forget charm forget romance oz mess around first episode ever saw struck nasty surreal say ready watched developed taste oz got accustomed high levels graphic violence violence injustice crooked guards sold nickel inmates kill order get away well mannered middle class inmates turned prison bitches due lack street skills prison experience watching oz may become comfortable uncomfortable viewing thats get touch darker side'"
      ]
     },
     "execution_count": 13,
     "metadata": {},
     "output_type": "execute_result"
    }
   ],
   "source": [
    "df_temp['review'][0]"
   ]
  },
  {
   "cell_type": "code",
   "execution_count": 14,
   "metadata": {},
   "outputs": [],
   "source": [
    "corpus = ' '.join(df_temp['review'].tolist())\n",
    "word_dist = nltk.FreqDist(corpus.split())"
   ]
  },
  {
   "cell_type": "code",
   "execution_count": 15,
   "metadata": {},
   "outputs": [
    {
     "name": "stdout",
     "output_type": "stream",
     "text": [
      "Percentage of Corpus captured with 1000 words is 57.38\n",
      "Percentage of Corpus captured with 5000 words is 82.00\n",
      "Percentage of Corpus captured with 7500 words is 86.86\n",
      "Percentage of Corpus captured with 10000 words is 89.84\n",
      "Percentage of Corpus captured with 12000 words is 91.52\n",
      "Percentage of Corpus captured with 15000 words is 93.36\n",
      "Percentage of Corpus captured with 20000 words is 95.33\n"
     ]
    }
   ],
   "source": [
    "for i in [1000,5000,7500,10000,12000,15000,20000]:\n",
    "    most_words = word_dist.most_common(i)\n",
    "    print('Percentage of Corpus captured with %s words is %.2f'%(i,np.sum([int(x[1]) for x in most_words]) / len(corpus.split()) * 100 ))"
   ]
  },
  {
   "cell_type": "markdown",
   "metadata": {},
   "source": [
    "__We will choose 12,000 vocab size for our corpus__"
   ]
  },
  {
   "cell_type": "markdown",
   "metadata": {},
   "source": [
    "Estimating the length of vector"
   ]
  },
  {
   "cell_type": "code",
   "execution_count": 16,
   "metadata": {},
   "outputs": [
    {
     "data": {
      "text/html": [
       "<div>\n",
       "<style scoped>\n",
       "    .dataframe tbody tr th:only-of-type {\n",
       "        vertical-align: middle;\n",
       "    }\n",
       "\n",
       "    .dataframe tbody tr th {\n",
       "        vertical-align: top;\n",
       "    }\n",
       "\n",
       "    .dataframe thead th {\n",
       "        text-align: right;\n",
       "    }\n",
       "</style>\n",
       "<table border=\"1\" class=\"dataframe\">\n",
       "  <thead>\n",
       "    <tr style=\"text-align: right;\">\n",
       "      <th></th>\n",
       "      <th>review</th>\n",
       "      <th>sentiment</th>\n",
       "    </tr>\n",
       "  </thead>\n",
       "  <tbody>\n",
       "    <tr>\n",
       "      <th>0</th>\n",
       "      <td>one reviewers mentioned watching oz episode ho...</td>\n",
       "      <td>1</td>\n",
       "    </tr>\n",
       "    <tr>\n",
       "      <th>1</th>\n",
       "      <td>wonderful little production filming technique ...</td>\n",
       "      <td>1</td>\n",
       "    </tr>\n",
       "    <tr>\n",
       "      <th>2</th>\n",
       "      <td>thought wonderful way spend time hot summer we...</td>\n",
       "      <td>1</td>\n",
       "    </tr>\n",
       "    <tr>\n",
       "      <th>3</th>\n",
       "      <td>basically family little boy jake thinks zombie...</td>\n",
       "      <td>0</td>\n",
       "    </tr>\n",
       "    <tr>\n",
       "      <th>4</th>\n",
       "      <td>petter mattei love time money visually stunnin...</td>\n",
       "      <td>1</td>\n",
       "    </tr>\n",
       "  </tbody>\n",
       "</table>\n",
       "</div>"
      ],
      "text/plain": [
       "                                              review  sentiment\n",
       "0  one reviewers mentioned watching oz episode ho...          1\n",
       "1  wonderful little production filming technique ...          1\n",
       "2  thought wonderful way spend time hot summer we...          1\n",
       "3  basically family little boy jake thinks zombie...          0\n",
       "4  petter mattei love time money visually stunnin...          1"
      ]
     },
     "execution_count": 16,
     "metadata": {},
     "output_type": "execute_result"
    }
   ],
   "source": [
    "df_temp.head()"
   ]
  },
  {
   "cell_type": "code",
   "execution_count": 17,
   "metadata": {},
   "outputs": [
    {
     "data": {
      "text/plain": [
       "162"
      ]
     },
     "execution_count": 17,
     "metadata": {},
     "output_type": "execute_result"
    }
   ],
   "source": [
    "len(df_temp['review'][0].split())"
   ]
  },
  {
   "cell_type": "code",
   "execution_count": 18,
   "metadata": {},
   "outputs": [],
   "source": [
    "corpus_list = df_temp['review'].tolist()"
   ]
  },
  {
   "cell_type": "code",
   "execution_count": 19,
   "metadata": {},
   "outputs": [],
   "source": [
    "len_review = []\n",
    "for i in corpus_list:\n",
    "    len_review.append(len(i.split()))"
   ]
  },
  {
   "cell_type": "code",
   "execution_count": 20,
   "metadata": {},
   "outputs": [],
   "source": [
    "len_review = np.array(len_review)"
   ]
  },
  {
   "cell_type": "code",
   "execution_count": 21,
   "metadata": {},
   "outputs": [
    {
     "name": "stdout",
     "output_type": "stream",
     "text": [
      "Average Length of Review: 118.12304\n",
      "Std Deviation of Reviews: 89.39626648332914\n"
     ]
    }
   ],
   "source": [
    "print('Average Length of Review:', np.mean(len_review))\n",
    "print('Std Deviation of Reviews:', np.std(len_review))"
   ]
  },
  {
   "cell_type": "code",
   "execution_count": 22,
   "metadata": {},
   "outputs": [
    {
     "name": "stdout",
     "output_type": "stream",
     "text": [
      "Percentage of Reviews less than or equal to mean + 0 standard dev: 0.67\n",
      "Percentage of Reviews less than or equal to mean + 1 standard dev: 0.87\n",
      "Percentage of Reviews less than or equal to mean + 2 standard dev: 0.95\n"
     ]
    }
   ],
   "source": [
    "mean = np.mean(len_review)\n",
    "std = np.std(len_review)\n",
    "\n",
    "for i in range(3):\n",
    "    print('Percentage of Reviews less than or equal to mean + %s standard dev: %.2f'%(i,len(len_review[len_review <= np.mean(len_review) + i * np.std(len_review)]) / len(len_review)))"
   ]
  },
  {
   "cell_type": "markdown",
   "metadata": {},
   "source": [
    "87% of reviews are less than mean + 1 std dev length, which will be our optimal length of vector."
   ]
  },
  {
   "cell_type": "code",
   "execution_count": 23,
   "metadata": {},
   "outputs": [
    {
     "name": "stdout",
     "output_type": "stream",
     "text": [
      "Length of Vector is 207.52\n"
     ]
    }
   ],
   "source": [
    "print('Length of Vector is', np.round(mean+std,2))"
   ]
  },
  {
   "cell_type": "code",
   "execution_count": 24,
   "metadata": {},
   "outputs": [],
   "source": [
    "X_train, X_test, y_train, y_test = train_test_split(df['review'], df['sentiment'], test_size = 0.2)"
   ]
  },
  {
   "cell_type": "code",
   "execution_count": 25,
   "metadata": {},
   "outputs": [
    {
     "data": {
      "text/plain": [
       "((40000,), (10000,))"
      ]
     },
     "execution_count": 25,
     "metadata": {},
     "output_type": "execute_result"
    }
   ],
   "source": [
    "X_train.shape, X_test.shape"
   ]
  },
  {
   "cell_type": "code",
   "execution_count": 26,
   "metadata": {},
   "outputs": [],
   "source": [
    "# y_train = tf.keras.utils.to_categorical(y_train, num_classes= 2)\n",
    "# y_test = tf.keras.utils.to_categorical(y_test, num_classes= 2)"
   ]
  },
  {
   "cell_type": "code",
   "execution_count": 27,
   "metadata": {},
   "outputs": [],
   "source": [
    "# Load data using tf.data.Dataset\n",
    "\n",
    "train_dataset = tf.data.Dataset.from_tensor_slices((X_train, y_train))\n",
    "test_dataset = tf.data.Dataset.from_tensor_slices((X_test, y_test))"
   ]
  },
  {
   "cell_type": "code",
   "execution_count": 28,
   "metadata": {},
   "outputs": [
    {
     "name": "stdout",
     "output_type": "stream",
     "text": [
      "text:  b'Quite simply the funniest and shiniest film-comedy of all time... it\\'s certainly on my personal top-ten list. This one also gets a solid ten on the voting scale. Millionaire heir, Arthur Bach (Moore), is a middle-aged \\'child\\' who refuses to take the mature path in life and avoids all requisite responsibilities. He also refuses to leave the bottle. One day he and his personal butler, Hobson (Gielgud), go shopping at Bergdorf Goodman\\'s and run into petty larcenist, Linda (Minnelli). Arthur and Linda\\'s chemistry adds electricity to the rest of the film. There are hilarious set pieces aplenty. In one such scene, Arthur (drunk throughout most of the story) knocks on the wrong apartment door and receives ear shattering threats from a human \\'siren\\' (\"My husband has a gun!!!!). Performances by everyone involved should be duly noted: Geraldine Fitzgerald plays Arthur\\'s loving-yet-ruthless grandmother, Sir John Gielgud almost steals the entire show with his acidic droll-isms (He took home the Oscar for this one), and Christopher Cross provides the Main Theme song (Oscar winner \"Best That You Can Do\"). It\\'s a shame the late Dudley Moore passed away last month (March 2002).'\n",
      "label:  1\n"
     ]
    }
   ],
   "source": [
    "for feat, targ in train_dataset.take(1):\n",
    "  print('text: ', feat.numpy())\n",
    "  print('label: ', targ.numpy())"
   ]
  },
  {
   "cell_type": "code",
   "execution_count": 29,
   "metadata": {},
   "outputs": [],
   "source": [
    "BUFFER_SIZE = 20000\n",
    "BATCH_SIZE = 512\n",
    "\n",
    "train_dataset = train_dataset.shuffle(BUFFER_SIZE).batch(BATCH_SIZE).prefetch(tf.data.AUTOTUNE)\n",
    "test_dataset = test_dataset.batch(BATCH_SIZE).prefetch(tf.data.AUTOTUNE)"
   ]
  },
  {
   "cell_type": "code",
   "execution_count": 31,
   "metadata": {},
   "outputs": [],
   "source": [
    "# @tf.keras.utils.register_keras_serializable()\n",
    "# def custom_standardization(input_data):\n",
    "#     lowercase = tf.strings.lower(input_data)\n",
    "#     output = tf.strings.regex_replace(lowercase, \"\\W+|(br)|\\d+\", \" \")\n",
    "#     return output"
   ]
  },
  {
   "cell_type": "code",
   "execution_count": 32,
   "metadata": {},
   "outputs": [],
   "source": [
    "VOCAB_SIZE = 5000\n",
    "encoder = tf.keras.layers.experimental.preprocessing.TextVectorization(\n",
    "    max_tokens = VOCAB_SIZE, standardize = 'lower_and_strip_punctuation',\n",
    "    output_mode = 'int', output_sequence_length = 200,\n",
    ")"
   ]
  },
  {
   "cell_type": "code",
   "execution_count": 33,
   "metadata": {},
   "outputs": [],
   "source": [
    "encoder.adapt(train_dataset.map(lambda text, label: text))"
   ]
  },
  {
   "cell_type": "code",
   "execution_count": 34,
   "metadata": {},
   "outputs": [],
   "source": [
    "vocab = np.array(encoder.get_vocabulary())"
   ]
  },
  {
   "cell_type": "code",
   "execution_count": 35,
   "metadata": {},
   "outputs": [
    {
     "name": "stdout",
     "output_type": "stream",
     "text": [
      "texts:  [b\"Well, at least my theater group did, lol. So of course I remember watching Grease since I was a little girl, while it was never my favorite musical or story, it does still hold a little special place in my heart since it's still a lot of fun to watch. I heard horrible things about Grease 2 and that's why I decided to never watch it, but my boyfriend said that it really wasn't all that bad and my friend agreed, so I decided to give it a shot, but I called them up and just laughed. First off the plot is totally stolen from the first one and it wasn't really clever, not to mention they just used the same characters, but with different names and actors. Tell me, how did the Pink Ladies and T-Birds continue years on after the former gangs left? Not to mention the creator face motor cycle enemy, gee, what a striking resemblance to the guys in the first film as well as these T-Birds were just stupid and ridiculous.<br /><br />Another year at Rydell and the music and dancing hasn't stopped. But when a new student who is Sandy's cousin comes into the scene, he is love struck by a pink lady, Stephanie. But she must stick to the code where only Pink Ladies must stick with the T-Birds, so the new student, decides to train as a T-Bird to win her heart. So he dresses up as a rebel motor cycle bandit who can ride well and defeat the evil bikers from easily kicking the T-Bird's butts. But will he tell Stephanie who he really is or will she find out on her own? Well, find out for yourself.<br /><br />Grease 2 is like a silly TV show of some sort that didn't work. The gang didn't click as well as the first Grease did, not to mention Frenchy coming back was a bit silly and unbelievable, because I thought that she graduated from Rydell, but apparently she didn't. The songs were not really that catchy; I'm glad that Michelle was able to bounce back so fast, but that's probably because she was the only one with talent in this silly little sequel, I wouldn't really recommend this film, other than if you are curious, but I warned you, this is just a pathetic attempt at more money from the famous musical.<br /><br />2/10\"\n",
      " b\"By today's standards The DI might seem a little hokey. Lee Emery's version is more accurate. I graduated boot camp in Parris Island, SC in 1964. Jim Moore is as close to the real thing as you could put on the screen in 1957. I can't comment on the plot but I thought the ending was unrealistic for MCRD. PVT Owens is like many who found himself in a lot more difficult situation than he bargained for. Like so many he joined the Marine Corps for all the wrong reasons. My Drill Intructors were more like GySgt Hartman than TSgt Jim Moore. A lot more. The DI is more Korean Era and Full Metal Jacket is more Viet Nam Era. Today's movies allow that sort of thing on the screen. I have the DI in my collection. I only recently found it on DVD.\"\n",
      " b'\"Americans Next Top Model\" is the best reality show! I was entertained 99.9 percent of the time watching it.I kept my eyes open the entire time. (well, I did blink) It can be sad, funny, or addicting.(mostly addicting)\"America\\'s Next Top Model\" kept me wanting more and that\\'s pretty much the point. It is also on more that one channel. Sometimes it\\'s on MTV other times it\\'s not. I hope it gets more fans and grows to be a hit series! It\\'s great for pretty much all ages so every can enjoy it! :)<br /><br />Also, if you watched the show before, haven\\'t you noticed that Tyra has a different hair style each time in the judging room? She\\'ll have it short and curly one week, and then long and straight the next.']\n",
      "\n",
      "labels:  [0 1 1]\n"
     ]
    }
   ],
   "source": [
    "for example, label in train_dataset.take(1):\n",
    "  print('texts: ', example.numpy()[:3])\n",
    "  print()\n",
    "  print('labels: ', label.numpy()[:3])"
   ]
  },
  {
   "cell_type": "code",
   "execution_count": 36,
   "metadata": {},
   "outputs": [
    {
     "data": {
      "text/plain": [
       "array([[  74,   31,  219,   54,  785,  526,  111, 4777,   38,    5,  261,\n",
       "          10,  375,  146,    1,  231,   10,   14,    3,  115,  250,  134,\n",
       "           9,   14,  108,   54,  502,  685,   40,   67,    9,  122,  127,\n",
       "        1063,    3,  115,  304,  274,    8,   54,  530,  231,   30,  127,\n",
       "           3,  165,    5,  249,    6,  104,   10,  542,  489,  178,   43,\n",
       "           1,  278,    4,  176,  132,   10,  839,    6,  108,  104,    9,\n",
       "          19,   54, 1399,  296,   12,    9,   65,  277,   32,   12,   83,\n",
       "           4,   54,  443, 3804,   38,   10,  839,    6,  195,    9,    3,\n",
       "         315,   19,   10,  467,   93,   57,    4,   41, 1396,   88,  125,\n",
       "           2,  117,    7,  435, 2499,   36,    2,   88,   29,    4,    9,\n",
       "         277,   65, 1013,   22,    6,  718,   35,   41,  322,    2,  164,\n",
       "         102,   19,   16,  269, 1291,    4,  151,  363,   70,   85,  111,\n",
       "           2, 3773, 2037,    4,    1, 1637,  152,   21,  100,    2, 1082,\n",
       "           1,  306,   22,    6,  718,    2,    1,  412,    1,    1, 2221,\n",
       "           1,   49,    3, 3612, 4149,    6,    2,  404,    8,    2,   88,\n",
       "          20,   15,   74,   15,  126,    1,   66,   41,  371,    4,    1,\n",
       "          13,  155,  350,   31,    1,    4,    2,  207,    4, 1113, 1487,\n",
       "        2224,   19,   52,    3,  166, 1385,   37,    7,    1, 2877,  263,\n",
       "          82,    2],\n",
       "       [  33, 1658, 1590,    2,    1,  225,  297,    3,  115,    1, 1000,\n",
       "           1,  313,    7,   51, 1729,   10,    1, 4098, 1252,    8,    1,\n",
       "         925,    1,    8,    1, 1265, 1908,    7,   15,  558,    6,    2,\n",
       "         145,  147,   15,   23,   97,  264,   21,    2,  286,    8,    1,\n",
       "          10,  173,  909,   21,    2,  117,   19,   10,  188,    2,  276,\n",
       "          14, 2096,   17,    1,    1,    1,    7,   39,  105,   37,  247,\n",
       "         309,    8,    3,  165,   51,  847,  864,   71,   28,    1,   17,\n",
       "          39,   38,  105,   28, 4506,    2, 4936,    1,   17,   32,    2,\n",
       "         365,  981,   54,    1,    1,   66,   51,   39,    1,    1,   71,\n",
       "           1, 1265, 1908,    3,  165,   51,    2,    1,    7,   51, 3253,\n",
       "        1098,    4,  366, 2900,    1,    7,   51,    1,    1, 1098, 1658,\n",
       "          94, 1670,   12,  422,    5,  147,   21,    2,  286,   10,   26,\n",
       "           2,    1,    8,   54, 1524,   10,   60, 1005,  247,    9,   21,\n",
       "         272,    0,    0,    0,    0,    0,    0,    0,    0,    0,    0,\n",
       "           0,    0,    0,    0,    0,    0,    0,    0,    0,    0,    0,\n",
       "           0,    0,    0,    0,    0,    0,    0,    0,    0,    0,    0,\n",
       "           0,    0,    0,    0,    0,    0,    0,    0,    0,    0,    0,\n",
       "           0,    0,    0,    0,    0,    0,    0,    0,    0,    0,    0,\n",
       "           0,    0],\n",
       "       [1521,  353,  398, 2236,    7,    2,  116,  623,  119,   10,   14,\n",
       "        2347,    1,    1,    5,    2,   61,  146,    1,  766,   54,  510,\n",
       "         877,    2,  421,   61,   74,   10,  111,    1,    9,   69,   27,\n",
       "         604,  159,   40,    1,    1,  353,  398, 2236,  766,   70, 1642,\n",
       "          51,    4,  176,  179,   73,    2,  223,    9,    7,   79,   21,\n",
       "          51,   12,   29, 1214,  519,   30,   21, 4845,   78,  216,   30,\n",
       "          22,   10,  427,    9,  212,   51,  457,    4, 3280,    6,   27,\n",
       "           3,  624,  211,   30,   80,   17,  179,   73,   32, 2148,   38,\n",
       "         168,   69,  341,    9,   13,   13,   79,   44,   23,  283,    2,\n",
       "         119,  156,  721,   23, 1752,   12,    1,   45,    3,  269, 1101,\n",
       "         428,  246,   61,    8,    2, 3984,  695, 4344,   26,    9,  333,\n",
       "           4,    1,   29, 1293,    4,   91,  202,    4,  795,    2,  353,\n",
       "           0,    0,    0,    0,    0,    0,    0,    0,    0,    0,    0,\n",
       "           0,    0,    0,    0,    0,    0,    0,    0,    0,    0,    0,\n",
       "           0,    0,    0,    0,    0,    0,    0,    0,    0,    0,    0,\n",
       "           0,    0,    0,    0,    0,    0,    0,    0,    0,    0,    0,\n",
       "           0,    0,    0,    0,    0,    0,    0,    0,    0,    0,    0,\n",
       "           0,    0,    0,    0,    0,    0,    0,    0,    0,    0,    0,\n",
       "           0,    0]])"
      ]
     },
     "execution_count": 36,
     "metadata": {},
     "output_type": "execute_result"
    }
   ],
   "source": [
    "encoded_example = encoder(example)[:3].numpy()\n",
    "encoded_example"
   ]
  },
  {
   "cell_type": "code",
   "execution_count": 37,
   "metadata": {},
   "outputs": [
    {
     "name": "stdout",
     "output_type": "stream",
     "text": [
      "Original:  b\"Well, at least my theater group did, lol. So of course I remember watching Grease since I was a little girl, while it was never my favorite musical or story, it does still hold a little special place in my heart since it's still a lot of fun to watch. I heard horrible things about Grease 2 and that's why I decided to never watch it, but my boyfriend said that it really wasn't all that bad and my friend agreed, so I decided to give it a shot, but I called them up and just laughed. First off the plot is totally stolen from the first one and it wasn't really clever, not to mention they just used the same characters, but with different names and actors. Tell me, how did the Pink Ladies and T-Birds continue years on after the former gangs left? Not to mention the creator face motor cycle enemy, gee, what a striking resemblance to the guys in the first film as well as these T-Birds were just stupid and ridiculous.<br /><br />Another year at Rydell and the music and dancing hasn't stopped. But when a new student who is Sandy's cousin comes into the scene, he is love struck by a pink lady, Stephanie. But she must stick to the code where only Pink Ladies must stick with the T-Birds, so the new student, decides to train as a T-Bird to win her heart. So he dresses up as a rebel motor cycle bandit who can ride well and defeat the evil bikers from easily kicking the T-Bird's butts. But will he tell Stephanie who he really is or will she find out on her own? Well, find out for yourself.<br /><br />Grease 2 is like a silly TV show of some sort that didn't work. The gang didn't click as well as the first Grease did, not to mention Frenchy coming back was a bit silly and unbelievable, because I thought that she graduated from Rydell, but apparently she didn't. The songs were not really that catchy; I'm glad that Michelle was able to bounce back so fast, but that's probably because she was the only one with talent in this silly little sequel, I wouldn't really recommend this film, other than if you are curious, but I warned you, this is just a pathetic attempt at more money from the famous musical.<br /><br />2/10\"\n",
      "Round-trip:  well at least my theater group did lol so of course i remember watching [UNK] since i was a little girl while it was never my favorite musical or story it does still hold a little special place in my heart since its still a lot of fun to watch i heard horrible things about [UNK] 2 and thats why i decided to never watch it but my boyfriend said that it really wasnt all that bad and my friend agreed so i decided to give it a shot but i called them up and just laughed first off the plot is totally stolen from the first one and it wasnt really clever not to mention they just used the same characters but with different names and actors tell me how did the pink ladies and [UNK] continue years on after the former [UNK] left not to mention the [UNK] face [UNK] [UNK] enemy [UNK] what a striking resemblance to the guys in the first film as well as these [UNK] were just stupid and [UNK] br another year at [UNK] and the music and dancing hasnt stopped but when a new student who is [UNK] cousin comes into the\n",
      "\n",
      "Original:  b\"By today's standards The DI might seem a little hokey. Lee Emery's version is more accurate. I graduated boot camp in Parris Island, SC in 1964. Jim Moore is as close to the real thing as you could put on the screen in 1957. I can't comment on the plot but I thought the ending was unrealistic for MCRD. PVT Owens is like many who found himself in a lot more difficult situation than he bargained for. Like so many he joined the Marine Corps for all the wrong reasons. My Drill Intructors were more like GySgt Hartman than TSgt Jim Moore. A lot more. The DI is more Korean Era and Full Metal Jacket is more Viet Nam Era. Today's movies allow that sort of thing on the screen. I have the DI in my collection. I only recently found it on DVD.\"\n",
      "Round-trip:  by todays standards the [UNK] might seem a little [UNK] lee [UNK] version is more accurate i [UNK] boot camp in [UNK] island [UNK] in [UNK] jim moore is as close to the real thing as you could put on the screen in [UNK] i cant comment on the plot but i thought the ending was unrealistic for [UNK] [UNK] [UNK] is like many who found himself in a lot more difficult situation than he [UNK] for like so many he joined the marine [UNK] for all the wrong reasons my [UNK] [UNK] were more like [UNK] [UNK] than [UNK] jim moore a lot more the [UNK] is more korean era and full metal [UNK] is more [UNK] [UNK] era todays movies allow that sort of thing on the screen i have the [UNK] in my collection i only recently found it on dvd                                                        \n",
      "\n",
      "Original:  b'\"Americans Next Top Model\" is the best reality show! I was entertained 99.9 percent of the time watching it.I kept my eyes open the entire time. (well, I did blink) It can be sad, funny, or addicting.(mostly addicting)\"America\\'s Next Top Model\" kept me wanting more and that\\'s pretty much the point. It is also on more that one channel. Sometimes it\\'s on MTV other times it\\'s not. I hope it gets more fans and grows to be a hit series! It\\'s great for pretty much all ages so every can enjoy it! :)<br /><br />Also, if you watched the show before, haven\\'t you noticed that Tyra has a different hair style each time in the judging room? She\\'ll have it short and curly one week, and then long and straight the next.'\n",
      "Round-trip:  americans next top model is the best reality show i was entertained [UNK] [UNK] of the time watching [UNK] kept my eyes open the entire time well i did [UNK] it can be sad funny or [UNK] [UNK] next top model kept me wanting more and thats pretty much the point it is also on more that one channel sometimes its on mtv other times its not i hope it gets more fans and grows to be a hit series its great for pretty much all ages so every can enjoy it br br also if you watched the show before havent you noticed that [UNK] has a different hair style each time in the judging room shell have it short and [UNK] one week and then long and straight the next                                                                    \n",
      "\n"
     ]
    }
   ],
   "source": [
    "for n in range(3):\n",
    "  print(\"Original: \", example[n].numpy())\n",
    "  print(\"Round-trip: \", \" \".join(vocab[encoded_example[n]]))\n",
    "  print()"
   ]
  },
  {
   "cell_type": "code",
   "execution_count": 38,
   "metadata": {},
   "outputs": [],
   "source": [
    "from tensorflow.keras.layers import Bidirectional,LSTM, Dense, Embedding, Dropout, GlobalAveragePooling1D"
   ]
  },
  {
   "cell_type": "code",
   "execution_count": 39,
   "metadata": {},
   "outputs": [],
   "source": [
    "model = tf.keras.Sequential([\n",
    "    encoder,\n",
    "    Embedding(input_dim=len(encoder.get_vocabulary()), output_dim= 256, mask_zero=True),\n",
    "    GlobalAveragePooling1D(),\n",
    "    Dropout(0.2),\n",
    "    Dense(128, activation = 'relu'),\n",
    "    Dropout(0.2),\n",
    "    Dense(1, activation = 'sigmoid')])"
   ]
  },
  {
   "cell_type": "code",
   "execution_count": 40,
   "metadata": {},
   "outputs": [],
   "source": [
    "model.compile(optimizer= tf.keras.optimizers.Adam(learning_rate= 0.001), \n",
    "              loss = tf.keras.losses.BinaryCrossentropy(from_logits= False), metrics = ['accuracy']\n",
    "              )"
   ]
  },
  {
   "cell_type": "code",
   "execution_count": 41,
   "metadata": {},
   "outputs": [
    {
     "name": "stdout",
     "output_type": "stream",
     "text": [
      "Epoch 1/10\n",
      "79/79 [==============================] - 16s 195ms/step - loss: 0.6557 - accuracy: 0.6175 - val_loss: 0.3913 - val_accuracy: 0.8398\n",
      "Epoch 2/10\n",
      "79/79 [==============================] - 15s 187ms/step - loss: 0.3447 - accuracy: 0.8552 - val_loss: 0.3143 - val_accuracy: 0.8699\n",
      "Epoch 3/10\n",
      "79/79 [==============================] - 15s 187ms/step - loss: 0.2775 - accuracy: 0.8860 - val_loss: 0.3102 - val_accuracy: 0.8672\n",
      "Epoch 4/10\n",
      "79/79 [==============================] - 15s 185ms/step - loss: 0.2554 - accuracy: 0.8938 - val_loss: 0.3101 - val_accuracy: 0.8707\n",
      "Epoch 5/10\n",
      "79/79 [==============================] - 15s 186ms/step - loss: 0.2457 - accuracy: 0.8985 - val_loss: 0.3171 - val_accuracy: 0.8672\n",
      "Epoch 6/10\n",
      "79/79 [==============================] - 15s 185ms/step - loss: 0.2333 - accuracy: 0.9049 - val_loss: 0.3235 - val_accuracy: 0.8652\n",
      "Epoch 7/10\n",
      "79/79 [==============================] - 15s 186ms/step - loss: 0.2270 - accuracy: 0.9098 - val_loss: 0.3311 - val_accuracy: 0.8609\n",
      "Epoch 8/10\n",
      "79/79 [==============================] - 15s 187ms/step - loss: 0.2243 - accuracy: 0.9109 - val_loss: 0.3418 - val_accuracy: 0.8586\n",
      "Epoch 9/10\n",
      "79/79 [==============================] - 15s 186ms/step - loss: 0.2179 - accuracy: 0.9128 - val_loss: 0.3429 - val_accuracy: 0.8574\n",
      "Epoch 10/10\n",
      "79/79 [==============================] - 15s 187ms/step - loss: 0.2153 - accuracy: 0.9164 - val_loss: 0.3504 - val_accuracy: 0.8598\n"
     ]
    }
   ],
   "source": [
    "history = model.fit(train_dataset, epochs=10,\n",
    "                    validation_data=test_dataset, \n",
    "                    validation_steps=5)"
   ]
  },
  {
   "cell_type": "code",
   "execution_count": 42,
   "metadata": {},
   "outputs": [
    {
     "name": "stdout",
     "output_type": "stream",
     "text": [
      "20/20 [==============================] - 2s 98ms/step - loss: 0.3395 - accuracy: 0.8614\n",
      "Loss:  0.3394545316696167\n",
      "Accuracy:  0.8614000082015991\n"
     ]
    }
   ],
   "source": [
    "loss, accuracy = model.evaluate(test_dataset)\n",
    "\n",
    "print(\"Loss: \", loss)\n",
    "print(\"Accuracy: \", accuracy)"
   ]
  },
  {
   "cell_type": "code",
   "execution_count": 43,
   "metadata": {},
   "outputs": [
    {
     "data": {
      "text/plain": [
       "dict_keys(['loss', 'accuracy', 'val_loss', 'val_accuracy'])"
      ]
     },
     "execution_count": 43,
     "metadata": {},
     "output_type": "execute_result"
    }
   ],
   "source": [
    "history_dict = history.history\n",
    "history_dict.keys()"
   ]
  },
  {
   "cell_type": "code",
   "execution_count": 44,
   "metadata": {},
   "outputs": [
    {
     "data": {
      "image/png": "[encoded data removed]",
      "text/plain": [
       "<Figure size 432x288 with 1 Axes>"
      ]
     },
     "metadata": {
      "needs_background": "light"
     },
     "output_type": "display_data"
    }
   ],
   "source": [
    "acc = history_dict['accuracy']\n",
    "val_acc = history_dict['val_accuracy']\n",
    "loss = history_dict['loss']\n",
    "val_loss = history_dict['val_loss']\n",
    "\n",
    "epochs = range(1, len(acc) + 1)\n",
    "\n",
    "# \"bo\" is for \"blue dot\"\n",
    "plt.plot(epochs, loss, 'bo', label='Training loss')\n",
    "# b is for \"solid blue line\"\n",
    "plt.plot(epochs, val_loss, 'b', label='Validation loss')\n",
    "plt.title('Training and validation loss')\n",
    "plt.xlabel('Epochs')\n",
    "plt.ylabel('Loss')\n",
    "plt.legend()\n",
    "plt.show()"
   ]
  },
  {
   "cell_type": "code",
   "execution_count": 45,
   "metadata": {},
   "outputs": [
    {
     "data": {
      "image/png": "[encoded data removed]",
      "text/plain": [
       "<Figure size 432x288 with 1 Axes>"
      ]
     },
     "metadata": {
      "needs_background": "light"
     },
     "output_type": "display_data"
    }
   ],
   "source": [
    "plt.plot(epochs, acc, 'bo', label='Training acc')\n",
    "plt.plot(epochs, val_acc, 'b', label='Validation acc')\n",
    "plt.title('Training and validation accuracy')\n",
    "plt.xlabel('Epochs')\n",
    "plt.ylabel('Accuracy')\n",
    "plt.legend(loc='lower right')\n",
    "\n",
    "plt.show()"
   ]
  },
  {
   "cell_type": "code",
   "execution_count": 46,
   "metadata": {},
   "outputs": [],
   "source": [
    "example = ['GODZILLA VS. KONG is laced with a great story and buildup and the climax battle between the monsters is amazing',\n",
    "          'The movie was terrible']"
   ]
  },
  {
   "cell_type": "code",
   "execution_count": 47,
   "metadata": {},
   "outputs": [
    {
     "data": {
      "text/plain": [
       "array([[9.9999976e-01],\n",
       "       [2.0258773e-12]], dtype=float32)"
      ]
     },
     "execution_count": 47,
     "metadata": {},
     "output_type": "execute_result"
    }
   ],
   "source": [
    "model.predict(example)"
   ]
  },
  {
   "cell_type": "code",
   "execution_count": 49,
   "metadata": {},
   "outputs": [
    {
     "name": "stdout",
     "output_type": "stream",
     "text": [
      "INFO:tensorflow:Assets written to: tf_keras_imdb/assets\n"
     ]
    }
   ],
   "source": [
    "model.save('tf_keras_imdb')"
   ]
  },
  {
   "cell_type": "code",
   "execution_count": 50,
   "metadata": {},
   "outputs": [],
   "source": [
    "exported_model = tf.keras.models.load_model('tf_keras_imdb/')"
   ]
  },
  {
   "cell_type": "code",
   "execution_count": 52,
   "metadata": {},
   "outputs": [
    {
     "data": {
      "text/plain": [
       "array([[0.99999976]], dtype=float32)"
      ]
     },
     "execution_count": 52,
     "metadata": {},
     "output_type": "execute_result"
    }
   ],
   "source": [
    "exported_model.predict(['GODZILLA VS. KONG is laced with a great story and buildup and the climax battle between the monsters is amazing'])"
   ]
  },
  {
   "cell_type": "code",
   "execution_count": 53,
   "metadata": {},
   "outputs": [],
   "source": [
    "import requests"
   ]
  },
  {
   "cell_type": "code",
   "execution_count": 73,
   "metadata": {},
   "outputs": [
    {
     "name": "stdout",
     "output_type": "stream",
     "text": [
      "{'prediction': 0.9999997615814209}\n"
     ]
    }
   ],
   "source": [
    "import requests\n",
    "\n",
    "url = 'http://127.0.0.1:8000/predict'\n",
    "data = {'review': 'GODZILLA VS. KONG is laced with a great story and buildup and the climax battle between the monsters is amazing'}\n",
    "\n",
    "resp = requests.post(url, json=data)\n",
    "print(resp.json())"
   ]
  },
  {
   "cell_type": "code",
   "execution_count": null,
   "metadata": {},
   "outputs": [],
   "source": []
  }
 ],
 "metadata": {
  "kernelspec": {
   "display_name": "Python 3",
   "language": "python",
   "name": "python3"
  },
  "language_info": {
   "codemirror_mode": {
    "name": "ipython",
    "version": 3
   },
   "file_extension": ".py",
   "mimetype": "text/x-python",
   "name": "python",
   "nbconvert_exporter": "python",
   "pygments_lexer": "ipython3",
   "version": "3.8.5"
  }
 },
 "nbformat": 4,
 "nbformat_minor": 4
}
